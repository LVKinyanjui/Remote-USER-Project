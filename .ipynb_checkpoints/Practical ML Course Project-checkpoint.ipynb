{
 "cells": [
  {
   "cell_type": "markdown",
   "id": "2f7bbbac-8482-4e57-b4a7-509c29468ba3",
   "metadata": {},
   "source": [
    "This is the course project for the Practical Machine Learning Course "
   ]
  },
  {
   "cell_type": "code",
   "execution_count": null,
   "id": "7f169749-5b90-473f-8828-e4ac2d23d081",
   "metadata": {},
   "outputs": [],
   "source": [
    "library(tidyverse)\n",
    "library(caret)"
   ]
  },
  {
   "cell_type": "markdown",
   "id": "c040e124-2176-43b9-8ca4-a3cb4f9c4a4e",
   "metadata": {},
   "source": [
    "## Data\n",
    "\n",
    "The data for this project come from this source: http://web.archive.org/web/20161224072740/http:/groupware.les.inf.puc-rio.br/har. We will try to cite them as they have been very generous in allowing their data to be used for this kind of assignment."
   ]
  },
  {
   "cell_type": "code",
   "execution_count": 2,
   "id": "976dccc0-a8a9-4c13-a4bb-53cb399c9739",
   "metadata": {},
   "outputs": [],
   "source": [
    "url1 = 'https://d396qusza40orc.cloudfront.net/predmachlearn/pml-training.csv'\n",
    "url2 = 'https://d396qusza40orc.cloudfront.net/predmachlearn/pml-testing.csv'\n",
    "\n",
    "path1 = \"./data/prediction_training.csv\"\n",
    "path2 = \"./data/prediction_testing.csv\"\n",
    "\n",
    "if (!file.exists(path1)) {\n",
    "    download.file(url1, path1)\n",
    "}\n",
    "\n",
    "if (!file.exists(path2)) {\n",
    "    download.file(url2, path2)\n",
    "}"
   ]
  },
  {
   "cell_type": "code",
   "execution_count": 5,
   "id": "6c1b0610-4cea-44a7-a1c6-e7990b221f4e",
   "metadata": {},
   "outputs": [],
   "source": [
    "## Loading in datasets\n",
    "\n",
    "training = read.csv(path1)\n",
    "testing = read.csv(path2)"
   ]
  },
  {
   "cell_type": "code",
   "execution_count": 6,
   "id": "bd05689a-79dd-40e2-b7ea-b96838a829e5",
   "metadata": {},
   "outputs": [
    {
     "data": {
      "text/html": [
       "<table class=\"dataframe\">\n",
       "<caption>A data.frame: 6 × 160</caption>\n",
       "<thead>\n",
       "\t<tr><th></th><th scope=col>X</th><th scope=col>user_name</th><th scope=col>raw_timestamp_part_1</th><th scope=col>raw_timestamp_part_2</th><th scope=col>cvtd_timestamp</th><th scope=col>new_window</th><th scope=col>num_window</th><th scope=col>roll_belt</th><th scope=col>pitch_belt</th><th scope=col>yaw_belt</th><th scope=col>...</th><th scope=col>gyros_forearm_x</th><th scope=col>gyros_forearm_y</th><th scope=col>gyros_forearm_z</th><th scope=col>accel_forearm_x</th><th scope=col>accel_forearm_y</th><th scope=col>accel_forearm_z</th><th scope=col>magnet_forearm_x</th><th scope=col>magnet_forearm_y</th><th scope=col>magnet_forearm_z</th><th scope=col>classe</th></tr>\n",
       "\t<tr><th></th><th scope=col>&lt;int&gt;</th><th scope=col>&lt;chr&gt;</th><th scope=col>&lt;int&gt;</th><th scope=col>&lt;int&gt;</th><th scope=col>&lt;chr&gt;</th><th scope=col>&lt;chr&gt;</th><th scope=col>&lt;int&gt;</th><th scope=col>&lt;dbl&gt;</th><th scope=col>&lt;dbl&gt;</th><th scope=col>&lt;dbl&gt;</th><th scope=col>...</th><th scope=col>&lt;dbl&gt;</th><th scope=col>&lt;dbl&gt;</th><th scope=col>&lt;dbl&gt;</th><th scope=col>&lt;int&gt;</th><th scope=col>&lt;int&gt;</th><th scope=col>&lt;int&gt;</th><th scope=col>&lt;int&gt;</th><th scope=col>&lt;dbl&gt;</th><th scope=col>&lt;dbl&gt;</th><th scope=col>&lt;chr&gt;</th></tr>\n",
       "</thead>\n",
       "<tbody>\n",
       "\t<tr><th scope=row>1</th><td>1</td><td>carlitos</td><td>1323084231</td><td>788290</td><td>05/12/2011 11:23</td><td>no</td><td>11</td><td>1.41</td><td>8.07</td><td>-94.4</td><td>...</td><td>0.03</td><td> 0.00</td><td>-0.02</td><td>192</td><td>203</td><td>-215</td><td>-17</td><td>654</td><td>476</td><td>A</td></tr>\n",
       "\t<tr><th scope=row>2</th><td>2</td><td>carlitos</td><td>1323084231</td><td>808298</td><td>05/12/2011 11:23</td><td>no</td><td>11</td><td>1.41</td><td>8.07</td><td>-94.4</td><td>...</td><td>0.02</td><td> 0.00</td><td>-0.02</td><td>192</td><td>203</td><td>-216</td><td>-18</td><td>661</td><td>473</td><td>A</td></tr>\n",
       "\t<tr><th scope=row>3</th><td>3</td><td>carlitos</td><td>1323084231</td><td>820366</td><td>05/12/2011 11:23</td><td>no</td><td>11</td><td>1.42</td><td>8.07</td><td>-94.4</td><td>...</td><td>0.03</td><td>-0.02</td><td> 0.00</td><td>196</td><td>204</td><td>-213</td><td>-18</td><td>658</td><td>469</td><td>A</td></tr>\n",
       "\t<tr><th scope=row>4</th><td>4</td><td>carlitos</td><td>1323084232</td><td>120339</td><td>05/12/2011 11:23</td><td>no</td><td>12</td><td>1.48</td><td>8.05</td><td>-94.4</td><td>...</td><td>0.02</td><td>-0.02</td><td> 0.00</td><td>189</td><td>206</td><td>-214</td><td>-16</td><td>658</td><td>469</td><td>A</td></tr>\n",
       "\t<tr><th scope=row>5</th><td>5</td><td>carlitos</td><td>1323084232</td><td>196328</td><td>05/12/2011 11:23</td><td>no</td><td>12</td><td>1.48</td><td>8.07</td><td>-94.4</td><td>...</td><td>0.02</td><td> 0.00</td><td>-0.02</td><td>189</td><td>206</td><td>-214</td><td>-17</td><td>655</td><td>473</td><td>A</td></tr>\n",
       "\t<tr><th scope=row>6</th><td>6</td><td>carlitos</td><td>1323084232</td><td>304277</td><td>05/12/2011 11:23</td><td>no</td><td>12</td><td>1.45</td><td>8.06</td><td>-94.4</td><td>...</td><td>0.02</td><td>-0.02</td><td>-0.03</td><td>193</td><td>203</td><td>-215</td><td> -9</td><td>660</td><td>478</td><td>A</td></tr>\n",
       "</tbody>\n",
       "</table>\n"
      ],
      "text/latex": [
       "A data.frame: 6 × 160\n",
       "\\begin{tabular}{r|lllllllllllllllllllll}\n",
       "  & X & user\\_name & raw\\_timestamp\\_part\\_1 & raw\\_timestamp\\_part\\_2 & cvtd\\_timestamp & new\\_window & num\\_window & roll\\_belt & pitch\\_belt & yaw\\_belt & ... & gyros\\_forearm\\_x & gyros\\_forearm\\_y & gyros\\_forearm\\_z & accel\\_forearm\\_x & accel\\_forearm\\_y & accel\\_forearm\\_z & magnet\\_forearm\\_x & magnet\\_forearm\\_y & magnet\\_forearm\\_z & classe\\\\\n",
       "  & <int> & <chr> & <int> & <int> & <chr> & <chr> & <int> & <dbl> & <dbl> & <dbl> & ... & <dbl> & <dbl> & <dbl> & <int> & <int> & <int> & <int> & <dbl> & <dbl> & <chr>\\\\\n",
       "\\hline\n",
       "\t1 & 1 & carlitos & 1323084231 & 788290 & 05/12/2011 11:23 & no & 11 & 1.41 & 8.07 & -94.4 & ... & 0.03 &  0.00 & -0.02 & 192 & 203 & -215 & -17 & 654 & 476 & A\\\\\n",
       "\t2 & 2 & carlitos & 1323084231 & 808298 & 05/12/2011 11:23 & no & 11 & 1.41 & 8.07 & -94.4 & ... & 0.02 &  0.00 & -0.02 & 192 & 203 & -216 & -18 & 661 & 473 & A\\\\\n",
       "\t3 & 3 & carlitos & 1323084231 & 820366 & 05/12/2011 11:23 & no & 11 & 1.42 & 8.07 & -94.4 & ... & 0.03 & -0.02 &  0.00 & 196 & 204 & -213 & -18 & 658 & 469 & A\\\\\n",
       "\t4 & 4 & carlitos & 1323084232 & 120339 & 05/12/2011 11:23 & no & 12 & 1.48 & 8.05 & -94.4 & ... & 0.02 & -0.02 &  0.00 & 189 & 206 & -214 & -16 & 658 & 469 & A\\\\\n",
       "\t5 & 5 & carlitos & 1323084232 & 196328 & 05/12/2011 11:23 & no & 12 & 1.48 & 8.07 & -94.4 & ... & 0.02 &  0.00 & -0.02 & 189 & 206 & -214 & -17 & 655 & 473 & A\\\\\n",
       "\t6 & 6 & carlitos & 1323084232 & 304277 & 05/12/2011 11:23 & no & 12 & 1.45 & 8.06 & -94.4 & ... & 0.02 & -0.02 & -0.03 & 193 & 203 & -215 &  -9 & 660 & 478 & A\\\\\n",
       "\\end{tabular}\n"
      ],
      "text/markdown": [
       "\n",
       "A data.frame: 6 × 160\n",
       "\n",
       "| <!--/--> | X &lt;int&gt; | user_name &lt;chr&gt; | raw_timestamp_part_1 &lt;int&gt; | raw_timestamp_part_2 &lt;int&gt; | cvtd_timestamp &lt;chr&gt; | new_window &lt;chr&gt; | num_window &lt;int&gt; | roll_belt &lt;dbl&gt; | pitch_belt &lt;dbl&gt; | yaw_belt &lt;dbl&gt; | ... ... | gyros_forearm_x &lt;dbl&gt; | gyros_forearm_y &lt;dbl&gt; | gyros_forearm_z &lt;dbl&gt; | accel_forearm_x &lt;int&gt; | accel_forearm_y &lt;int&gt; | accel_forearm_z &lt;int&gt; | magnet_forearm_x &lt;int&gt; | magnet_forearm_y &lt;dbl&gt; | magnet_forearm_z &lt;dbl&gt; | classe &lt;chr&gt; |\n",
       "|---|---|---|---|---|---|---|---|---|---|---|---|---|---|---|---|---|---|---|---|---|---|\n",
       "| 1 | 1 | carlitos | 1323084231 | 788290 | 05/12/2011 11:23 | no | 11 | 1.41 | 8.07 | -94.4 | ... | 0.03 |  0.00 | -0.02 | 192 | 203 | -215 | -17 | 654 | 476 | A |\n",
       "| 2 | 2 | carlitos | 1323084231 | 808298 | 05/12/2011 11:23 | no | 11 | 1.41 | 8.07 | -94.4 | ... | 0.02 |  0.00 | -0.02 | 192 | 203 | -216 | -18 | 661 | 473 | A |\n",
       "| 3 | 3 | carlitos | 1323084231 | 820366 | 05/12/2011 11:23 | no | 11 | 1.42 | 8.07 | -94.4 | ... | 0.03 | -0.02 |  0.00 | 196 | 204 | -213 | -18 | 658 | 469 | A |\n",
       "| 4 | 4 | carlitos | 1323084232 | 120339 | 05/12/2011 11:23 | no | 12 | 1.48 | 8.05 | -94.4 | ... | 0.02 | -0.02 |  0.00 | 189 | 206 | -214 | -16 | 658 | 469 | A |\n",
       "| 5 | 5 | carlitos | 1323084232 | 196328 | 05/12/2011 11:23 | no | 12 | 1.48 | 8.07 | -94.4 | ... | 0.02 |  0.00 | -0.02 | 189 | 206 | -214 | -17 | 655 | 473 | A |\n",
       "| 6 | 6 | carlitos | 1323084232 | 304277 | 05/12/2011 11:23 | no | 12 | 1.45 | 8.06 | -94.4 | ... | 0.02 | -0.02 | -0.03 | 193 | 203 | -215 |  -9 | 660 | 478 | A |\n",
       "\n"
      ],
      "text/plain": [
       "  X user_name raw_timestamp_part_1 raw_timestamp_part_2 cvtd_timestamp  \n",
       "1 1 carlitos  1323084231           788290               05/12/2011 11:23\n",
       "2 2 carlitos  1323084231           808298               05/12/2011 11:23\n",
       "3 3 carlitos  1323084231           820366               05/12/2011 11:23\n",
       "4 4 carlitos  1323084232           120339               05/12/2011 11:23\n",
       "5 5 carlitos  1323084232           196328               05/12/2011 11:23\n",
       "6 6 carlitos  1323084232           304277               05/12/2011 11:23\n",
       "  new_window num_window roll_belt pitch_belt yaw_belt ... gyros_forearm_x\n",
       "1 no         11         1.41      8.07       -94.4    ... 0.03           \n",
       "2 no         11         1.41      8.07       -94.4    ... 0.02           \n",
       "3 no         11         1.42      8.07       -94.4    ... 0.03           \n",
       "4 no         12         1.48      8.05       -94.4    ... 0.02           \n",
       "5 no         12         1.48      8.07       -94.4    ... 0.02           \n",
       "6 no         12         1.45      8.06       -94.4    ... 0.02           \n",
       "  gyros_forearm_y gyros_forearm_z accel_forearm_x accel_forearm_y\n",
       "1  0.00           -0.02           192             203            \n",
       "2  0.00           -0.02           192             203            \n",
       "3 -0.02            0.00           196             204            \n",
       "4 -0.02            0.00           189             206            \n",
       "5  0.00           -0.02           189             206            \n",
       "6 -0.02           -0.03           193             203            \n",
       "  accel_forearm_z magnet_forearm_x magnet_forearm_y magnet_forearm_z classe\n",
       "1 -215            -17              654              476              A     \n",
       "2 -216            -18              661              473              A     \n",
       "3 -213            -18              658              469              A     \n",
       "4 -214            -16              658              469              A     \n",
       "5 -214            -17              655              473              A     \n",
       "6 -215             -9              660              478              A     "
      ]
     },
     "metadata": {},
     "output_type": "display_data"
    }
   ],
   "source": [
    "head(training)"
   ]
  },
  {
   "cell_type": "markdown",
   "id": "4cdc46b9-c774-4bdd-990a-f3209bbd4442",
   "metadata": {},
   "source": [
    "## Exploration\n",
    "\n",
    "We now proceed to do some data analysis on the training set to figure out the lay of the land."
   ]
  },
  {
   "cell_type": "code",
   "execution_count": null,
   "id": "9dcfdf43-cecc-40b2-b3a6-d628c62521a7",
   "metadata": {},
   "outputs": [],
   "source": []
  }
 ],
 "metadata": {
  "kernelspec": {
   "display_name": "R",
   "language": "R",
   "name": "ir"
  },
  "language_info": {
   "codemirror_mode": "r",
   "file_extension": ".r",
   "mimetype": "text/x-r-source",
   "name": "R",
   "pygments_lexer": "r",
   "version": "4.1.3"
  }
 },
 "nbformat": 4,
 "nbformat_minor": 5
}
