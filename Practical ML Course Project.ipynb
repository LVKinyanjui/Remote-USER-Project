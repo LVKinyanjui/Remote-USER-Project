{
 "cells": [
  {
   "cell_type": "markdown",
   "id": "2f7bbbac-8482-4e57-b4a7-509c29468ba3",
   "metadata": {},
   "source": [
    "## Introduction to the Project\n",
    "\n",
    "Using devices such as Jawbone Up, Nike FuelBand, and Fitbit it is now possible to collect a large amount of data about personal activity relatively inexpensively. These type of devices are part of the quantified self movement – a group of enthusiasts who take measurements about themselves regularly to improve their health, to find patterns in their behavior, or because they are tech geeks. One thing that people regularly do is quantify how much of a particular activity they do, but they rarely quantify how well they do it. In this project, your goal will be to use data from accelerometers on the belt, forearm, arm, and dumbell of 6 participants. They were asked to perform barbell lifts correctly and incorrectly in 5 different ways. More information is available from the website here: http://web.archive.org/web/20161224072740/http:/groupware.les.inf.puc-rio.br/har (see the section on the Weight Lifting Exercise Dataset)."
   ]
  },
  {
   "cell_type": "markdown",
   "id": "94c6a54b-6f7e-4c82-827c-58cdecc27889",
   "metadata": {},
   "source": [
    "# Objective\n",
    "\n",
    "The goal of your project is to predict the manner in which they did the exercise. This is the \"classe\" variable in the training set. You may use any of the other variables to predict with. You should create a report describing how you built your model, how you used cross validation, what you think the expected out of sample error is, and why you made the choices you did. You will also use your prediction model to predict 20 different test cases."
   ]
  },
  {
   "cell_type": "code",
<<<<<<< HEAD
   "execution_count": 29,
=======
   "execution_count": 13,
>>>>>>> f43730ca5679e424442686288b1cf4ae86c1e4a8
   "id": "7f169749-5b90-473f-8828-e4ac2d23d081",
   "metadata": {},
   "outputs": [],
   "source": [
    "library(tidyverse)\n",
<<<<<<< HEAD
    "library(caret)\n",
    "\n",
    "set.seed(123)"
=======
    "library(caret)"
>>>>>>> f43730ca5679e424442686288b1cf4ae86c1e4a8
   ]
  },
  {
   "cell_type": "markdown",
   "id": "c040e124-2176-43b9-8ca4-a3cb4f9c4a4e",
   "metadata": {},
   "source": [
    "## Data\n",
    "\n"
   ]
  },
  {
   "cell_type": "code",
<<<<<<< HEAD
   "execution_count": 30,
=======
   "execution_count": 14,
>>>>>>> f43730ca5679e424442686288b1cf4ae86c1e4a8
   "id": "976dccc0-a8a9-4c13-a4bb-53cb399c9739",
   "metadata": {},
   "outputs": [],
   "source": [
    "url1 = 'https://d396qusza40orc.cloudfront.net/predmachlearn/pml-training.csv'\n",
    "url2 = 'https://d396qusza40orc.cloudfront.net/predmachlearn/pml-testing.csv'\n",
    "\n",
    "path1 = \"./data/prediction_training.csv\"\n",
    "path2 = \"./data/prediction_testing.csv\"\n",
    "\n",
    "if (!file.exists(path1)) {\n",
    "    download.file(url1, path1)\n",
    "}\n",
    "\n",
    "if (!file.exists(path2)) {\n",
    "    download.file(url2, path2)\n",
    "}"
   ]
  },
  {
   "cell_type": "code",
<<<<<<< HEAD
   "execution_count": 31,
=======
   "execution_count": 15,
>>>>>>> f43730ca5679e424442686288b1cf4ae86c1e4a8
   "id": "6c1b0610-4cea-44a7-a1c6-e7990b221f4e",
   "metadata": {},
   "outputs": [],
   "source": [
    "## Loading in datasets\n",
    "\n",
    "training = read.csv(path1)\n",
    "testing = read.csv(path2)"
   ]
  },
  {
   "cell_type": "code",
<<<<<<< HEAD
   "execution_count": 32,
=======
   "execution_count": 16,
>>>>>>> f43730ca5679e424442686288b1cf4ae86c1e4a8
   "id": "bd05689a-79dd-40e2-b7ea-b96838a829e5",
   "metadata": {},
   "outputs": [
    {
     "data": {
      "text/html": [
       "<table class=\"dataframe\">\n",
       "<caption>A data.frame: 6 × 160</caption>\n",
       "<thead>\n",
       "\t<tr><th></th><th scope=col>X</th><th scope=col>user_name</th><th scope=col>raw_timestamp_part_1</th><th scope=col>raw_timestamp_part_2</th><th scope=col>cvtd_timestamp</th><th scope=col>new_window</th><th scope=col>num_window</th><th scope=col>roll_belt</th><th scope=col>pitch_belt</th><th scope=col>yaw_belt</th><th scope=col>...</th><th scope=col>gyros_forearm_x</th><th scope=col>gyros_forearm_y</th><th scope=col>gyros_forearm_z</th><th scope=col>accel_forearm_x</th><th scope=col>accel_forearm_y</th><th scope=col>accel_forearm_z</th><th scope=col>magnet_forearm_x</th><th scope=col>magnet_forearm_y</th><th scope=col>magnet_forearm_z</th><th scope=col>classe</th></tr>\n",
       "\t<tr><th></th><th scope=col>&lt;int&gt;</th><th scope=col>&lt;chr&gt;</th><th scope=col>&lt;int&gt;</th><th scope=col>&lt;int&gt;</th><th scope=col>&lt;chr&gt;</th><th scope=col>&lt;chr&gt;</th><th scope=col>&lt;int&gt;</th><th scope=col>&lt;dbl&gt;</th><th scope=col>&lt;dbl&gt;</th><th scope=col>&lt;dbl&gt;</th><th scope=col>...</th><th scope=col>&lt;dbl&gt;</th><th scope=col>&lt;dbl&gt;</th><th scope=col>&lt;dbl&gt;</th><th scope=col>&lt;int&gt;</th><th scope=col>&lt;int&gt;</th><th scope=col>&lt;int&gt;</th><th scope=col>&lt;int&gt;</th><th scope=col>&lt;dbl&gt;</th><th scope=col>&lt;dbl&gt;</th><th scope=col>&lt;chr&gt;</th></tr>\n",
       "</thead>\n",
       "<tbody>\n",
       "\t<tr><th scope=row>1</th><td>1</td><td>carlitos</td><td>1323084231</td><td>788290</td><td>05/12/2011 11:23</td><td>no</td><td>11</td><td>1.41</td><td>8.07</td><td>-94.4</td><td>...</td><td>0.03</td><td> 0.00</td><td>-0.02</td><td>192</td><td>203</td><td>-215</td><td>-17</td><td>654</td><td>476</td><td>A</td></tr>\n",
       "\t<tr><th scope=row>2</th><td>2</td><td>carlitos</td><td>1323084231</td><td>808298</td><td>05/12/2011 11:23</td><td>no</td><td>11</td><td>1.41</td><td>8.07</td><td>-94.4</td><td>...</td><td>0.02</td><td> 0.00</td><td>-0.02</td><td>192</td><td>203</td><td>-216</td><td>-18</td><td>661</td><td>473</td><td>A</td></tr>\n",
       "\t<tr><th scope=row>3</th><td>3</td><td>carlitos</td><td>1323084231</td><td>820366</td><td>05/12/2011 11:23</td><td>no</td><td>11</td><td>1.42</td><td>8.07</td><td>-94.4</td><td>...</td><td>0.03</td><td>-0.02</td><td> 0.00</td><td>196</td><td>204</td><td>-213</td><td>-18</td><td>658</td><td>469</td><td>A</td></tr>\n",
       "\t<tr><th scope=row>4</th><td>4</td><td>carlitos</td><td>1323084232</td><td>120339</td><td>05/12/2011 11:23</td><td>no</td><td>12</td><td>1.48</td><td>8.05</td><td>-94.4</td><td>...</td><td>0.02</td><td>-0.02</td><td> 0.00</td><td>189</td><td>206</td><td>-214</td><td>-16</td><td>658</td><td>469</td><td>A</td></tr>\n",
       "\t<tr><th scope=row>5</th><td>5</td><td>carlitos</td><td>1323084232</td><td>196328</td><td>05/12/2011 11:23</td><td>no</td><td>12</td><td>1.48</td><td>8.07</td><td>-94.4</td><td>...</td><td>0.02</td><td> 0.00</td><td>-0.02</td><td>189</td><td>206</td><td>-214</td><td>-17</td><td>655</td><td>473</td><td>A</td></tr>\n",
       "\t<tr><th scope=row>6</th><td>6</td><td>carlitos</td><td>1323084232</td><td>304277</td><td>05/12/2011 11:23</td><td>no</td><td>12</td><td>1.45</td><td>8.06</td><td>-94.4</td><td>...</td><td>0.02</td><td>-0.02</td><td>-0.03</td><td>193</td><td>203</td><td>-215</td><td> -9</td><td>660</td><td>478</td><td>A</td></tr>\n",
       "</tbody>\n",
       "</table>\n"
      ],
      "text/latex": [
       "A data.frame: 6 × 160\n",
       "\\begin{tabular}{r|lllllllllllllllllllll}\n",
       "  & X & user\\_name & raw\\_timestamp\\_part\\_1 & raw\\_timestamp\\_part\\_2 & cvtd\\_timestamp & new\\_window & num\\_window & roll\\_belt & pitch\\_belt & yaw\\_belt & ... & gyros\\_forearm\\_x & gyros\\_forearm\\_y & gyros\\_forearm\\_z & accel\\_forearm\\_x & accel\\_forearm\\_y & accel\\_forearm\\_z & magnet\\_forearm\\_x & magnet\\_forearm\\_y & magnet\\_forearm\\_z & classe\\\\\n",
       "  & <int> & <chr> & <int> & <int> & <chr> & <chr> & <int> & <dbl> & <dbl> & <dbl> & ... & <dbl> & <dbl> & <dbl> & <int> & <int> & <int> & <int> & <dbl> & <dbl> & <chr>\\\\\n",
       "\\hline\n",
       "\t1 & 1 & carlitos & 1323084231 & 788290 & 05/12/2011 11:23 & no & 11 & 1.41 & 8.07 & -94.4 & ... & 0.03 &  0.00 & -0.02 & 192 & 203 & -215 & -17 & 654 & 476 & A\\\\\n",
       "\t2 & 2 & carlitos & 1323084231 & 808298 & 05/12/2011 11:23 & no & 11 & 1.41 & 8.07 & -94.4 & ... & 0.02 &  0.00 & -0.02 & 192 & 203 & -216 & -18 & 661 & 473 & A\\\\\n",
       "\t3 & 3 & carlitos & 1323084231 & 820366 & 05/12/2011 11:23 & no & 11 & 1.42 & 8.07 & -94.4 & ... & 0.03 & -0.02 &  0.00 & 196 & 204 & -213 & -18 & 658 & 469 & A\\\\\n",
       "\t4 & 4 & carlitos & 1323084232 & 120339 & 05/12/2011 11:23 & no & 12 & 1.48 & 8.05 & -94.4 & ... & 0.02 & -0.02 &  0.00 & 189 & 206 & -214 & -16 & 658 & 469 & A\\\\\n",
       "\t5 & 5 & carlitos & 1323084232 & 196328 & 05/12/2011 11:23 & no & 12 & 1.48 & 8.07 & -94.4 & ... & 0.02 &  0.00 & -0.02 & 189 & 206 & -214 & -17 & 655 & 473 & A\\\\\n",
       "\t6 & 6 & carlitos & 1323084232 & 304277 & 05/12/2011 11:23 & no & 12 & 1.45 & 8.06 & -94.4 & ... & 0.02 & -0.02 & -0.03 & 193 & 203 & -215 &  -9 & 660 & 478 & A\\\\\n",
       "\\end{tabular}\n"
      ],
      "text/markdown": [
       "\n",
       "A data.frame: 6 × 160\n",
       "\n",
       "| <!--/--> | X &lt;int&gt; | user_name &lt;chr&gt; | raw_timestamp_part_1 &lt;int&gt; | raw_timestamp_part_2 &lt;int&gt; | cvtd_timestamp &lt;chr&gt; | new_window &lt;chr&gt; | num_window &lt;int&gt; | roll_belt &lt;dbl&gt; | pitch_belt &lt;dbl&gt; | yaw_belt &lt;dbl&gt; | ... ... | gyros_forearm_x &lt;dbl&gt; | gyros_forearm_y &lt;dbl&gt; | gyros_forearm_z &lt;dbl&gt; | accel_forearm_x &lt;int&gt; | accel_forearm_y &lt;int&gt; | accel_forearm_z &lt;int&gt; | magnet_forearm_x &lt;int&gt; | magnet_forearm_y &lt;dbl&gt; | magnet_forearm_z &lt;dbl&gt; | classe &lt;chr&gt; |\n",
       "|---|---|---|---|---|---|---|---|---|---|---|---|---|---|---|---|---|---|---|---|---|---|\n",
       "| 1 | 1 | carlitos | 1323084231 | 788290 | 05/12/2011 11:23 | no | 11 | 1.41 | 8.07 | -94.4 | ... | 0.03 |  0.00 | -0.02 | 192 | 203 | -215 | -17 | 654 | 476 | A |\n",
       "| 2 | 2 | carlitos | 1323084231 | 808298 | 05/12/2011 11:23 | no | 11 | 1.41 | 8.07 | -94.4 | ... | 0.02 |  0.00 | -0.02 | 192 | 203 | -216 | -18 | 661 | 473 | A |\n",
       "| 3 | 3 | carlitos | 1323084231 | 820366 | 05/12/2011 11:23 | no | 11 | 1.42 | 8.07 | -94.4 | ... | 0.03 | -0.02 |  0.00 | 196 | 204 | -213 | -18 | 658 | 469 | A |\n",
       "| 4 | 4 | carlitos | 1323084232 | 120339 | 05/12/2011 11:23 | no | 12 | 1.48 | 8.05 | -94.4 | ... | 0.02 | -0.02 |  0.00 | 189 | 206 | -214 | -16 | 658 | 469 | A |\n",
       "| 5 | 5 | carlitos | 1323084232 | 196328 | 05/12/2011 11:23 | no | 12 | 1.48 | 8.07 | -94.4 | ... | 0.02 |  0.00 | -0.02 | 189 | 206 | -214 | -17 | 655 | 473 | A |\n",
       "| 6 | 6 | carlitos | 1323084232 | 304277 | 05/12/2011 11:23 | no | 12 | 1.45 | 8.06 | -94.4 | ... | 0.02 | -0.02 | -0.03 | 193 | 203 | -215 |  -9 | 660 | 478 | A |\n",
       "\n"
      ],
      "text/plain": [
       "  X user_name raw_timestamp_part_1 raw_timestamp_part_2 cvtd_timestamp  \n",
       "1 1 carlitos  1323084231           788290               05/12/2011 11:23\n",
       "2 2 carlitos  1323084231           808298               05/12/2011 11:23\n",
       "3 3 carlitos  1323084231           820366               05/12/2011 11:23\n",
       "4 4 carlitos  1323084232           120339               05/12/2011 11:23\n",
       "5 5 carlitos  1323084232           196328               05/12/2011 11:23\n",
       "6 6 carlitos  1323084232           304277               05/12/2011 11:23\n",
       "  new_window num_window roll_belt pitch_belt yaw_belt ... gyros_forearm_x\n",
       "1 no         11         1.41      8.07       -94.4    ... 0.03           \n",
       "2 no         11         1.41      8.07       -94.4    ... 0.02           \n",
       "3 no         11         1.42      8.07       -94.4    ... 0.03           \n",
       "4 no         12         1.48      8.05       -94.4    ... 0.02           \n",
       "5 no         12         1.48      8.07       -94.4    ... 0.02           \n",
       "6 no         12         1.45      8.06       -94.4    ... 0.02           \n",
       "  gyros_forearm_y gyros_forearm_z accel_forearm_x accel_forearm_y\n",
       "1  0.00           -0.02           192             203            \n",
       "2  0.00           -0.02           192             203            \n",
       "3 -0.02            0.00           196             204            \n",
       "4 -0.02            0.00           189             206            \n",
       "5  0.00           -0.02           189             206            \n",
       "6 -0.02           -0.03           193             203            \n",
       "  accel_forearm_z magnet_forearm_x magnet_forearm_y magnet_forearm_z classe\n",
       "1 -215            -17              654              476              A     \n",
       "2 -216            -18              661              473              A     \n",
       "3 -213            -18              658              469              A     \n",
       "4 -214            -16              658              469              A     \n",
       "5 -214            -17              655              473              A     \n",
       "6 -215             -9              660              478              A     "
      ]
     },
     "metadata": {},
     "output_type": "display_data"
    }
   ],
   "source": [
    "head(training)"
   ]
  },
  {
   "cell_type": "markdown",
   "id": "b0157bb3-1af3-4e79-883e-97380f18577c",
   "metadata": {},
   "source": [
    "# Model Strategy\n",
    "\n",
    "Our dataset is a prime example of unsupervised learning. We want to identify certain human activity with labels that we do not have beforehand. We are required to do clustering first which will enable us to identify these labels and then build our machine learning model to predict them from the features we have."
   ]
  },
  {
   "cell_type": "markdown",
   "id": "038a941e-eff2-444c-9dbf-4eacc5b49b01",
   "metadata": {},
   "source": [
    "## Clustering\n",
    "\n",
    "We intend to use hierarchical or k-means clusterings for our purposes. Whatever works best is what we shall proceed with"
   ]
  },
  {
   "cell_type": "markdown",
   "id": "197e5935-8b78-4159-bb02-99768a63c451",
   "metadata": {},
   "source": [
    "### Heatmaps\n",
    "\n",
    "Heatmaps are a great way of visualizing patterns in multidimensional data. Let's use one to visualize a sample from our dataset.\n",
    "\n",
    "To use it it's best that we have a numeric matrix"
   ]
  },
  {
   "cell_type": "code",
<<<<<<< HEAD
   "execution_count": 33,
=======
   "execution_count": 17,
>>>>>>> f43730ca5679e424442686288b1cf4ae86c1e4a8
   "id": "c3b73f1b-62d7-4916-a8d6-cfdf6580ec33",
   "metadata": {},
   "outputs": [],
   "source": [
    "training_numeric = select(training, where(is.numeric))"
   ]
  },
  {
   "cell_type": "code",
<<<<<<< HEAD
   "execution_count": 34,
=======
   "execution_count": 18,
>>>>>>> f43730ca5679e424442686288b1cf4ae86c1e4a8
   "id": "3c0bb44d-3c74-436f-a317-1026373ea7e0",
   "metadata": {},
   "outputs": [
    {
     "data": {
      "text/html": [
       "<table class=\"dataframe\">\n",
       "<caption>A data.frame: 6 × 123</caption>\n",
       "<thead>\n",
       "\t<tr><th></th><th scope=col>X</th><th scope=col>raw_timestamp_part_1</th><th scope=col>raw_timestamp_part_2</th><th scope=col>num_window</th><th scope=col>roll_belt</th><th scope=col>pitch_belt</th><th scope=col>yaw_belt</th><th scope=col>total_accel_belt</th><th scope=col>max_roll_belt</th><th scope=col>max_picth_belt</th><th scope=col>...</th><th scope=col>var_yaw_forearm</th><th scope=col>gyros_forearm_x</th><th scope=col>gyros_forearm_y</th><th scope=col>gyros_forearm_z</th><th scope=col>accel_forearm_x</th><th scope=col>accel_forearm_y</th><th scope=col>accel_forearm_z</th><th scope=col>magnet_forearm_x</th><th scope=col>magnet_forearm_y</th><th scope=col>magnet_forearm_z</th></tr>\n",
       "\t<tr><th></th><th scope=col>&lt;int&gt;</th><th scope=col>&lt;int&gt;</th><th scope=col>&lt;int&gt;</th><th scope=col>&lt;int&gt;</th><th scope=col>&lt;dbl&gt;</th><th scope=col>&lt;dbl&gt;</th><th scope=col>&lt;dbl&gt;</th><th scope=col>&lt;int&gt;</th><th scope=col>&lt;dbl&gt;</th><th scope=col>&lt;int&gt;</th><th scope=col>...</th><th scope=col>&lt;dbl&gt;</th><th scope=col>&lt;dbl&gt;</th><th scope=col>&lt;dbl&gt;</th><th scope=col>&lt;dbl&gt;</th><th scope=col>&lt;int&gt;</th><th scope=col>&lt;int&gt;</th><th scope=col>&lt;int&gt;</th><th scope=col>&lt;int&gt;</th><th scope=col>&lt;dbl&gt;</th><th scope=col>&lt;dbl&gt;</th></tr>\n",
       "</thead>\n",
       "<tbody>\n",
       "\t<tr><th scope=row>1</th><td>1</td><td>1323084231</td><td>788290</td><td>11</td><td>1.41</td><td>8.07</td><td>-94.4</td><td>3</td><td>NA</td><td>NA</td><td>...</td><td>NA</td><td>0.03</td><td> 0.00</td><td>-0.02</td><td>192</td><td>203</td><td>-215</td><td>-17</td><td>654</td><td>476</td></tr>\n",
       "\t<tr><th scope=row>2</th><td>2</td><td>1323084231</td><td>808298</td><td>11</td><td>1.41</td><td>8.07</td><td>-94.4</td><td>3</td><td>NA</td><td>NA</td><td>...</td><td>NA</td><td>0.02</td><td> 0.00</td><td>-0.02</td><td>192</td><td>203</td><td>-216</td><td>-18</td><td>661</td><td>473</td></tr>\n",
       "\t<tr><th scope=row>3</th><td>3</td><td>1323084231</td><td>820366</td><td>11</td><td>1.42</td><td>8.07</td><td>-94.4</td><td>3</td><td>NA</td><td>NA</td><td>...</td><td>NA</td><td>0.03</td><td>-0.02</td><td> 0.00</td><td>196</td><td>204</td><td>-213</td><td>-18</td><td>658</td><td>469</td></tr>\n",
       "\t<tr><th scope=row>4</th><td>4</td><td>1323084232</td><td>120339</td><td>12</td><td>1.48</td><td>8.05</td><td>-94.4</td><td>3</td><td>NA</td><td>NA</td><td>...</td><td>NA</td><td>0.02</td><td>-0.02</td><td> 0.00</td><td>189</td><td>206</td><td>-214</td><td>-16</td><td>658</td><td>469</td></tr>\n",
       "\t<tr><th scope=row>5</th><td>5</td><td>1323084232</td><td>196328</td><td>12</td><td>1.48</td><td>8.07</td><td>-94.4</td><td>3</td><td>NA</td><td>NA</td><td>...</td><td>NA</td><td>0.02</td><td> 0.00</td><td>-0.02</td><td>189</td><td>206</td><td>-214</td><td>-17</td><td>655</td><td>473</td></tr>\n",
       "\t<tr><th scope=row>6</th><td>6</td><td>1323084232</td><td>304277</td><td>12</td><td>1.45</td><td>8.06</td><td>-94.4</td><td>3</td><td>NA</td><td>NA</td><td>...</td><td>NA</td><td>0.02</td><td>-0.02</td><td>-0.03</td><td>193</td><td>203</td><td>-215</td><td> -9</td><td>660</td><td>478</td></tr>\n",
       "</tbody>\n",
       "</table>\n"
      ],
      "text/latex": [
       "A data.frame: 6 × 123\n",
       "\\begin{tabular}{r|lllllllllllllllllllll}\n",
       "  & X & raw\\_timestamp\\_part\\_1 & raw\\_timestamp\\_part\\_2 & num\\_window & roll\\_belt & pitch\\_belt & yaw\\_belt & total\\_accel\\_belt & max\\_roll\\_belt & max\\_picth\\_belt & ... & var\\_yaw\\_forearm & gyros\\_forearm\\_x & gyros\\_forearm\\_y & gyros\\_forearm\\_z & accel\\_forearm\\_x & accel\\_forearm\\_y & accel\\_forearm\\_z & magnet\\_forearm\\_x & magnet\\_forearm\\_y & magnet\\_forearm\\_z\\\\\n",
       "  & <int> & <int> & <int> & <int> & <dbl> & <dbl> & <dbl> & <int> & <dbl> & <int> & ... & <dbl> & <dbl> & <dbl> & <dbl> & <int> & <int> & <int> & <int> & <dbl> & <dbl>\\\\\n",
       "\\hline\n",
       "\t1 & 1 & 1323084231 & 788290 & 11 & 1.41 & 8.07 & -94.4 & 3 & NA & NA & ... & NA & 0.03 &  0.00 & -0.02 & 192 & 203 & -215 & -17 & 654 & 476\\\\\n",
       "\t2 & 2 & 1323084231 & 808298 & 11 & 1.41 & 8.07 & -94.4 & 3 & NA & NA & ... & NA & 0.02 &  0.00 & -0.02 & 192 & 203 & -216 & -18 & 661 & 473\\\\\n",
       "\t3 & 3 & 1323084231 & 820366 & 11 & 1.42 & 8.07 & -94.4 & 3 & NA & NA & ... & NA & 0.03 & -0.02 &  0.00 & 196 & 204 & -213 & -18 & 658 & 469\\\\\n",
       "\t4 & 4 & 1323084232 & 120339 & 12 & 1.48 & 8.05 & -94.4 & 3 & NA & NA & ... & NA & 0.02 & -0.02 &  0.00 & 189 & 206 & -214 & -16 & 658 & 469\\\\\n",
       "\t5 & 5 & 1323084232 & 196328 & 12 & 1.48 & 8.07 & -94.4 & 3 & NA & NA & ... & NA & 0.02 &  0.00 & -0.02 & 189 & 206 & -214 & -17 & 655 & 473\\\\\n",
       "\t6 & 6 & 1323084232 & 304277 & 12 & 1.45 & 8.06 & -94.4 & 3 & NA & NA & ... & NA & 0.02 & -0.02 & -0.03 & 193 & 203 & -215 &  -9 & 660 & 478\\\\\n",
       "\\end{tabular}\n"
      ],
      "text/markdown": [
       "\n",
       "A data.frame: 6 × 123\n",
       "\n",
       "| <!--/--> | X &lt;int&gt; | raw_timestamp_part_1 &lt;int&gt; | raw_timestamp_part_2 &lt;int&gt; | num_window &lt;int&gt; | roll_belt &lt;dbl&gt; | pitch_belt &lt;dbl&gt; | yaw_belt &lt;dbl&gt; | total_accel_belt &lt;int&gt; | max_roll_belt &lt;dbl&gt; | max_picth_belt &lt;int&gt; | ... ... | var_yaw_forearm &lt;dbl&gt; | gyros_forearm_x &lt;dbl&gt; | gyros_forearm_y &lt;dbl&gt; | gyros_forearm_z &lt;dbl&gt; | accel_forearm_x &lt;int&gt; | accel_forearm_y &lt;int&gt; | accel_forearm_z &lt;int&gt; | magnet_forearm_x &lt;int&gt; | magnet_forearm_y &lt;dbl&gt; | magnet_forearm_z &lt;dbl&gt; |\n",
       "|---|---|---|---|---|---|---|---|---|---|---|---|---|---|---|---|---|---|---|---|---|---|\n",
       "| 1 | 1 | 1323084231 | 788290 | 11 | 1.41 | 8.07 | -94.4 | 3 | NA | NA | ... | NA | 0.03 |  0.00 | -0.02 | 192 | 203 | -215 | -17 | 654 | 476 |\n",
       "| 2 | 2 | 1323084231 | 808298 | 11 | 1.41 | 8.07 | -94.4 | 3 | NA | NA | ... | NA | 0.02 |  0.00 | -0.02 | 192 | 203 | -216 | -18 | 661 | 473 |\n",
       "| 3 | 3 | 1323084231 | 820366 | 11 | 1.42 | 8.07 | -94.4 | 3 | NA | NA | ... | NA | 0.03 | -0.02 |  0.00 | 196 | 204 | -213 | -18 | 658 | 469 |\n",
       "| 4 | 4 | 1323084232 | 120339 | 12 | 1.48 | 8.05 | -94.4 | 3 | NA | NA | ... | NA | 0.02 | -0.02 |  0.00 | 189 | 206 | -214 | -16 | 658 | 469 |\n",
       "| 5 | 5 | 1323084232 | 196328 | 12 | 1.48 | 8.07 | -94.4 | 3 | NA | NA | ... | NA | 0.02 |  0.00 | -0.02 | 189 | 206 | -214 | -17 | 655 | 473 |\n",
       "| 6 | 6 | 1323084232 | 304277 | 12 | 1.45 | 8.06 | -94.4 | 3 | NA | NA | ... | NA | 0.02 | -0.02 | -0.03 | 193 | 203 | -215 |  -9 | 660 | 478 |\n",
       "\n"
      ],
      "text/plain": [
       "  X raw_timestamp_part_1 raw_timestamp_part_2 num_window roll_belt pitch_belt\n",
       "1 1 1323084231           788290               11         1.41      8.07      \n",
       "2 2 1323084231           808298               11         1.41      8.07      \n",
       "3 3 1323084231           820366               11         1.42      8.07      \n",
       "4 4 1323084232           120339               12         1.48      8.05      \n",
       "5 5 1323084232           196328               12         1.48      8.07      \n",
       "6 6 1323084232           304277               12         1.45      8.06      \n",
       "  yaw_belt total_accel_belt max_roll_belt max_picth_belt ... var_yaw_forearm\n",
       "1 -94.4    3                NA            NA             ... NA             \n",
       "2 -94.4    3                NA            NA             ... NA             \n",
       "3 -94.4    3                NA            NA             ... NA             \n",
       "4 -94.4    3                NA            NA             ... NA             \n",
       "5 -94.4    3                NA            NA             ... NA             \n",
       "6 -94.4    3                NA            NA             ... NA             \n",
       "  gyros_forearm_x gyros_forearm_y gyros_forearm_z accel_forearm_x\n",
       "1 0.03             0.00           -0.02           192            \n",
       "2 0.02             0.00           -0.02           192            \n",
       "3 0.03            -0.02            0.00           196            \n",
       "4 0.02            -0.02            0.00           189            \n",
       "5 0.02             0.00           -0.02           189            \n",
       "6 0.02            -0.02           -0.03           193            \n",
       "  accel_forearm_y accel_forearm_z magnet_forearm_x magnet_forearm_y\n",
       "1 203             -215            -17              654             \n",
       "2 203             -216            -18              661             \n",
       "3 204             -213            -18              658             \n",
       "4 206             -214            -16              658             \n",
       "5 206             -214            -17              655             \n",
       "6 203             -215             -9              660             \n",
       "  magnet_forearm_z\n",
       "1 476             \n",
       "2 473             \n",
       "3 469             \n",
       "4 469             \n",
       "5 473             \n",
       "6 478             "
      ]
     },
     "metadata": {},
     "output_type": "display_data"
    }
   ],
   "source": [
    "head(training_numeric)"
   ]
  },
  {
   "cell_type": "markdown",
   "id": "5880a2af-bfb8-492d-9824-8f8443bb2395",
   "metadata": {},
   "source": [
    "Owing to errors caused we need to remove columns with Missing Values (NAs)"
   ]
  },
  {
   "cell_type": "code",
<<<<<<< HEAD
   "execution_count": 35,
=======
   "execution_count": 19,
>>>>>>> f43730ca5679e424442686288b1cf4ae86c1e4a8
   "id": "8ceeb7df-86e0-411c-a2ee-cab7d81ad281",
   "metadata": {},
   "outputs": [],
   "source": [
    "training_numeric = select(training_numeric, \n",
    "                           # Variables for which the number of missing values is 0\n",
    "                           where(function(x) sum(is.na(x)) == 0\n",
    "                                 )\n",
    "                          )"
   ]
  },
  {
   "cell_type": "code",
<<<<<<< HEAD
   "execution_count": 36,
=======
   "execution_count": 20,
>>>>>>> f43730ca5679e424442686288b1cf4ae86c1e4a8
   "id": "66dfb3a9-db63-4d56-b782-90105aec8e9c",
   "metadata": {},
   "outputs": [
    {
     "data": {
      "text/html": [
       "<table class=\"dataframe\">\n",
       "<caption>A data.frame: 6 × 56</caption>\n",
       "<thead>\n",
       "\t<tr><th></th><th scope=col>X</th><th scope=col>raw_timestamp_part_1</th><th scope=col>raw_timestamp_part_2</th><th scope=col>num_window</th><th scope=col>roll_belt</th><th scope=col>pitch_belt</th><th scope=col>yaw_belt</th><th scope=col>total_accel_belt</th><th scope=col>gyros_belt_x</th><th scope=col>gyros_belt_y</th><th scope=col>...</th><th scope=col>total_accel_forearm</th><th scope=col>gyros_forearm_x</th><th scope=col>gyros_forearm_y</th><th scope=col>gyros_forearm_z</th><th scope=col>accel_forearm_x</th><th scope=col>accel_forearm_y</th><th scope=col>accel_forearm_z</th><th scope=col>magnet_forearm_x</th><th scope=col>magnet_forearm_y</th><th scope=col>magnet_forearm_z</th></tr>\n",
       "\t<tr><th></th><th scope=col>&lt;int&gt;</th><th scope=col>&lt;int&gt;</th><th scope=col>&lt;int&gt;</th><th scope=col>&lt;int&gt;</th><th scope=col>&lt;dbl&gt;</th><th scope=col>&lt;dbl&gt;</th><th scope=col>&lt;dbl&gt;</th><th scope=col>&lt;int&gt;</th><th scope=col>&lt;dbl&gt;</th><th scope=col>&lt;dbl&gt;</th><th scope=col>...</th><th scope=col>&lt;int&gt;</th><th scope=col>&lt;dbl&gt;</th><th scope=col>&lt;dbl&gt;</th><th scope=col>&lt;dbl&gt;</th><th scope=col>&lt;int&gt;</th><th scope=col>&lt;int&gt;</th><th scope=col>&lt;int&gt;</th><th scope=col>&lt;int&gt;</th><th scope=col>&lt;dbl&gt;</th><th scope=col>&lt;dbl&gt;</th></tr>\n",
       "</thead>\n",
       "<tbody>\n",
       "\t<tr><th scope=row>1</th><td>1</td><td>1323084231</td><td>788290</td><td>11</td><td>1.41</td><td>8.07</td><td>-94.4</td><td>3</td><td>0.00</td><td>0.00</td><td>...</td><td>36</td><td>0.03</td><td> 0.00</td><td>-0.02</td><td>192</td><td>203</td><td>-215</td><td>-17</td><td>654</td><td>476</td></tr>\n",
       "\t<tr><th scope=row>2</th><td>2</td><td>1323084231</td><td>808298</td><td>11</td><td>1.41</td><td>8.07</td><td>-94.4</td><td>3</td><td>0.02</td><td>0.00</td><td>...</td><td>36</td><td>0.02</td><td> 0.00</td><td>-0.02</td><td>192</td><td>203</td><td>-216</td><td>-18</td><td>661</td><td>473</td></tr>\n",
       "\t<tr><th scope=row>3</th><td>3</td><td>1323084231</td><td>820366</td><td>11</td><td>1.42</td><td>8.07</td><td>-94.4</td><td>3</td><td>0.00</td><td>0.00</td><td>...</td><td>36</td><td>0.03</td><td>-0.02</td><td> 0.00</td><td>196</td><td>204</td><td>-213</td><td>-18</td><td>658</td><td>469</td></tr>\n",
       "\t<tr><th scope=row>4</th><td>4</td><td>1323084232</td><td>120339</td><td>12</td><td>1.48</td><td>8.05</td><td>-94.4</td><td>3</td><td>0.02</td><td>0.00</td><td>...</td><td>36</td><td>0.02</td><td>-0.02</td><td> 0.00</td><td>189</td><td>206</td><td>-214</td><td>-16</td><td>658</td><td>469</td></tr>\n",
       "\t<tr><th scope=row>5</th><td>5</td><td>1323084232</td><td>196328</td><td>12</td><td>1.48</td><td>8.07</td><td>-94.4</td><td>3</td><td>0.02</td><td>0.02</td><td>...</td><td>36</td><td>0.02</td><td> 0.00</td><td>-0.02</td><td>189</td><td>206</td><td>-214</td><td>-17</td><td>655</td><td>473</td></tr>\n",
       "\t<tr><th scope=row>6</th><td>6</td><td>1323084232</td><td>304277</td><td>12</td><td>1.45</td><td>8.06</td><td>-94.4</td><td>3</td><td>0.02</td><td>0.00</td><td>...</td><td>36</td><td>0.02</td><td>-0.02</td><td>-0.03</td><td>193</td><td>203</td><td>-215</td><td> -9</td><td>660</td><td>478</td></tr>\n",
       "</tbody>\n",
       "</table>\n"
      ],
      "text/latex": [
       "A data.frame: 6 × 56\n",
       "\\begin{tabular}{r|lllllllllllllllllllll}\n",
       "  & X & raw\\_timestamp\\_part\\_1 & raw\\_timestamp\\_part\\_2 & num\\_window & roll\\_belt & pitch\\_belt & yaw\\_belt & total\\_accel\\_belt & gyros\\_belt\\_x & gyros\\_belt\\_y & ... & total\\_accel\\_forearm & gyros\\_forearm\\_x & gyros\\_forearm\\_y & gyros\\_forearm\\_z & accel\\_forearm\\_x & accel\\_forearm\\_y & accel\\_forearm\\_z & magnet\\_forearm\\_x & magnet\\_forearm\\_y & magnet\\_forearm\\_z\\\\\n",
       "  & <int> & <int> & <int> & <int> & <dbl> & <dbl> & <dbl> & <int> & <dbl> & <dbl> & ... & <int> & <dbl> & <dbl> & <dbl> & <int> & <int> & <int> & <int> & <dbl> & <dbl>\\\\\n",
       "\\hline\n",
       "\t1 & 1 & 1323084231 & 788290 & 11 & 1.41 & 8.07 & -94.4 & 3 & 0.00 & 0.00 & ... & 36 & 0.03 &  0.00 & -0.02 & 192 & 203 & -215 & -17 & 654 & 476\\\\\n",
       "\t2 & 2 & 1323084231 & 808298 & 11 & 1.41 & 8.07 & -94.4 & 3 & 0.02 & 0.00 & ... & 36 & 0.02 &  0.00 & -0.02 & 192 & 203 & -216 & -18 & 661 & 473\\\\\n",
       "\t3 & 3 & 1323084231 & 820366 & 11 & 1.42 & 8.07 & -94.4 & 3 & 0.00 & 0.00 & ... & 36 & 0.03 & -0.02 &  0.00 & 196 & 204 & -213 & -18 & 658 & 469\\\\\n",
       "\t4 & 4 & 1323084232 & 120339 & 12 & 1.48 & 8.05 & -94.4 & 3 & 0.02 & 0.00 & ... & 36 & 0.02 & -0.02 &  0.00 & 189 & 206 & -214 & -16 & 658 & 469\\\\\n",
       "\t5 & 5 & 1323084232 & 196328 & 12 & 1.48 & 8.07 & -94.4 & 3 & 0.02 & 0.02 & ... & 36 & 0.02 &  0.00 & -0.02 & 189 & 206 & -214 & -17 & 655 & 473\\\\\n",
       "\t6 & 6 & 1323084232 & 304277 & 12 & 1.45 & 8.06 & -94.4 & 3 & 0.02 & 0.00 & ... & 36 & 0.02 & -0.02 & -0.03 & 193 & 203 & -215 &  -9 & 660 & 478\\\\\n",
       "\\end{tabular}\n"
      ],
      "text/markdown": [
       "\n",
       "A data.frame: 6 × 56\n",
       "\n",
       "| <!--/--> | X &lt;int&gt; | raw_timestamp_part_1 &lt;int&gt; | raw_timestamp_part_2 &lt;int&gt; | num_window &lt;int&gt; | roll_belt &lt;dbl&gt; | pitch_belt &lt;dbl&gt; | yaw_belt &lt;dbl&gt; | total_accel_belt &lt;int&gt; | gyros_belt_x &lt;dbl&gt; | gyros_belt_y &lt;dbl&gt; | ... ... | total_accel_forearm &lt;int&gt; | gyros_forearm_x &lt;dbl&gt; | gyros_forearm_y &lt;dbl&gt; | gyros_forearm_z &lt;dbl&gt; | accel_forearm_x &lt;int&gt; | accel_forearm_y &lt;int&gt; | accel_forearm_z &lt;int&gt; | magnet_forearm_x &lt;int&gt; | magnet_forearm_y &lt;dbl&gt; | magnet_forearm_z &lt;dbl&gt; |\n",
       "|---|---|---|---|---|---|---|---|---|---|---|---|---|---|---|---|---|---|---|---|---|---|\n",
       "| 1 | 1 | 1323084231 | 788290 | 11 | 1.41 | 8.07 | -94.4 | 3 | 0.00 | 0.00 | ... | 36 | 0.03 |  0.00 | -0.02 | 192 | 203 | -215 | -17 | 654 | 476 |\n",
       "| 2 | 2 | 1323084231 | 808298 | 11 | 1.41 | 8.07 | -94.4 | 3 | 0.02 | 0.00 | ... | 36 | 0.02 |  0.00 | -0.02 | 192 | 203 | -216 | -18 | 661 | 473 |\n",
       "| 3 | 3 | 1323084231 | 820366 | 11 | 1.42 | 8.07 | -94.4 | 3 | 0.00 | 0.00 | ... | 36 | 0.03 | -0.02 |  0.00 | 196 | 204 | -213 | -18 | 658 | 469 |\n",
       "| 4 | 4 | 1323084232 | 120339 | 12 | 1.48 | 8.05 | -94.4 | 3 | 0.02 | 0.00 | ... | 36 | 0.02 | -0.02 |  0.00 | 189 | 206 | -214 | -16 | 658 | 469 |\n",
       "| 5 | 5 | 1323084232 | 196328 | 12 | 1.48 | 8.07 | -94.4 | 3 | 0.02 | 0.02 | ... | 36 | 0.02 |  0.00 | -0.02 | 189 | 206 | -214 | -17 | 655 | 473 |\n",
       "| 6 | 6 | 1323084232 | 304277 | 12 | 1.45 | 8.06 | -94.4 | 3 | 0.02 | 0.00 | ... | 36 | 0.02 | -0.02 | -0.03 | 193 | 203 | -215 |  -9 | 660 | 478 |\n",
       "\n"
      ],
      "text/plain": [
       "  X raw_timestamp_part_1 raw_timestamp_part_2 num_window roll_belt pitch_belt\n",
       "1 1 1323084231           788290               11         1.41      8.07      \n",
       "2 2 1323084231           808298               11         1.41      8.07      \n",
       "3 3 1323084231           820366               11         1.42      8.07      \n",
       "4 4 1323084232           120339               12         1.48      8.05      \n",
       "5 5 1323084232           196328               12         1.48      8.07      \n",
       "6 6 1323084232           304277               12         1.45      8.06      \n",
       "  yaw_belt total_accel_belt gyros_belt_x gyros_belt_y ... total_accel_forearm\n",
       "1 -94.4    3                0.00         0.00         ... 36                 \n",
       "2 -94.4    3                0.02         0.00         ... 36                 \n",
       "3 -94.4    3                0.00         0.00         ... 36                 \n",
       "4 -94.4    3                0.02         0.00         ... 36                 \n",
       "5 -94.4    3                0.02         0.02         ... 36                 \n",
       "6 -94.4    3                0.02         0.00         ... 36                 \n",
       "  gyros_forearm_x gyros_forearm_y gyros_forearm_z accel_forearm_x\n",
       "1 0.03             0.00           -0.02           192            \n",
       "2 0.02             0.00           -0.02           192            \n",
       "3 0.03            -0.02            0.00           196            \n",
       "4 0.02            -0.02            0.00           189            \n",
       "5 0.02             0.00           -0.02           189            \n",
       "6 0.02            -0.02           -0.03           193            \n",
       "  accel_forearm_y accel_forearm_z magnet_forearm_x magnet_forearm_y\n",
       "1 203             -215            -17              654             \n",
       "2 203             -216            -18              661             \n",
       "3 204             -213            -18              658             \n",
       "4 206             -214            -16              658             \n",
       "5 206             -214            -17              655             \n",
       "6 203             -215             -9              660             \n",
       "  magnet_forearm_z\n",
       "1 476             \n",
       "2 473             \n",
       "3 469             \n",
       "4 469             \n",
       "5 473             \n",
       "6 478             "
      ]
     },
     "metadata": {},
     "output_type": "display_data"
    }
   ],
   "source": [
    "head(training_numeric)"
   ]
  },
  {
   "cell_type": "code",
<<<<<<< HEAD
   "execution_count": 37,
=======
   "execution_count": 24,
>>>>>>> f43730ca5679e424442686288b1cf4ae86c1e4a8
   "id": "549f5546-f351-45b2-a996-500bed4f387f",
   "metadata": {},
   "outputs": [
    {
     "data": {
      "image/png": "iVBORw0KGgoAAAANSUhEUgAAA0gAAANICAMAAADKOT/pAAAADFBMVEUAAAB9ACX//8j///80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",
      "text/plain": [
       "plot without title"
      ]
     },
     "metadata": {
      "image/png": {
       "height": 420,
       "width": 420
      }
     },
     "output_type": "display_data"
    }
   ],
   "source": [
<<<<<<< HEAD
=======
    "set.seed(123)\n",
>>>>>>> f43730ca5679e424442686288b1cf4ae86c1e4a8
    "\n",
    "data_matrix = as.matrix(training_numeric)[sample(1:1000),]\n",
    "heatmap(data_matrix)"
   ]
  },
  {
   "cell_type": "markdown",
<<<<<<< HEAD
   "id": "d16a26d8-f583-457b-ac33-ef9e5fadcd08",
   "metadata": {},
   "source": [
    "### Preliminary Conclusions\n",
    "\n",
    "Looking at the variables the data splits into two groups. A single variable raw_timestamp_part_2 appears on its own in one cluster while all the other variables are grouped into the other cluster.\n",
    "\n",
    "What may be gathered from the data is that:\n",
    "- All the other variables are probably closely related and can be reduced using Principal Components Analysis (PCA)\n",
    "\n",
    "- There is no clear row-wise pattern; the rows all cluster into numerous little groups."
   ]
  },
  {
   "cell_type": "markdown",
   "id": "6fb58c24-4a7c-46d0-a6b1-cb9a9e86fb83",
   "metadata": {
    "jp-MarkdownHeadingCollapsed": true,
    "tags": []
   },
   "source": [
    "### Kmeans\n",
    "\n",
    "We can also use k-means to visualize how our data clusters with the help of scatter plots."
   ]
  },
  {
   "cell_type": "code",
   "execution_count": 42,
   "id": "6a6b598d-d416-4318-9a3c-09dab7f44c01",
   "metadata": {
    "tags": []
   },
   "outputs": [],
   "source": [
    "k_object = kmeans(training_numeric, centers = 2)"
   ]
  },
  {
   "cell_type": "code",
   "execution_count": 51,
   "id": "97117df6-1543-49a1-9de6-913a145c385e",
   "metadata": {},
   "outputs": [
    {
     "data": {
      "image/png": "iVBORw0KGgoAAAANSUhEUgAAA0gAAANICAMAAADKOT/pAAAB5lBMVEUAAAATLEQULUUULUYV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\nAAAASUVORK5CYII=",
      "text/plain": [
       "plot without title"
      ]
     },
     "metadata": {
      "image/png": {
       "height": 420,
       "width": 420
      }
     },
     "output_type": "display_data"
    }
   ],
   "source": [
    "n = 1000\n",
    "qplot(data = training_numeric[1:n, ], X, raw_timestamp_part_2, fill=k_object$cluster[1:n])"
   ]
  },
  {
   "cell_type": "markdown",
   "id": "5a743977-b45d-4f16-85b2-62774bda0b63",
   "metadata": {},
   "source": [
    "Our result here is somewhat unclear. We will require to come back to this."
   ]
  },
  {
   "cell_type": "markdown",
=======
>>>>>>> f43730ca5679e424442686288b1cf4ae86c1e4a8
   "id": "32caac1f-22af-4a5d-8e0f-7cfd125b9fe6",
   "metadata": {
    "jp-MarkdownHeadingCollapsed": true,
    "tags": []
   },
   "source": [
    "## Note on Graphic Devices\n",
    "\n",
    "A graphics device is something where you can make a plot appear.\n",
    "- A window on your computer (screen device)\n",
    "- A PDF file (file device)\n",
    "- A PNG or JPEG file (file device)\n",
    "- A scalable vector graphics (SVG) file (file device)\n",
    "\n",
    "For plots that may be printed out or be incorporated into a document, such as papers,\n",
    "reports, or slide presentations, usually a file device is more appropriate. We might want higher resolution plots too."
   ]
  },
  {
   "cell_type": "markdown",
   "id": "354620b4-df65-444a-8f9c-5f48a37b7202",
   "metadata": {},
   "source": [
    "### The Process\n",
    "\n",
    "The second basic approach to plotting is most commonly used for file devices:\n",
    "\n",
    "1. Explicitly launch a graphics device\n",
    "2. Call a plotting function to make a plot (Note: if you are using a file device, no plot will appear on the screen)\n",
    "3. Annotate the plot if necessary\n",
    "4. Explicitly close graphics device with dev.off() (this is very important!)\n"
   ]
  },
  {
   "cell_type": "code",
<<<<<<< HEAD
   "execution_count": 38,
=======
   "execution_count": 25,
>>>>>>> f43730ca5679e424442686288b1cf4ae86c1e4a8
   "id": "31c01151-1689-4eb5-b51b-78839321dcad",
   "metadata": {},
   "outputs": [
    {
     "data": {
      "text/html": [
       "<strong>png:</strong> 2"
      ],
      "text/latex": [
       "\\textbf{png:} 2"
      ],
      "text/markdown": [
       "**png:** 2"
      ],
      "text/plain": [
       "png \n",
       "  2 "
      ]
     },
     "metadata": {},
     "output_type": "display_data"
    }
   ],
   "source": [
    "## Open PDF device; create 'myplot.pdf' in my working directory\n",
<<<<<<< HEAD
    "pdf(file = \"./plots/pm_heatmap.pdf\", height = 9, title = \"Cluster Analysis\")\n",
=======
    "pdf(file = \"./plots/pm_heatmap.pdf\", )\n",
>>>>>>> f43730ca5679e424442686288b1cf4ae86c1e4a8
    "\n",
    "## Create plot and send to a file (no plot appears on screen)\n",
    "set.seed(123)\n",
    "\n",
    "heatmap(data_matrix)\n",
    "\n",
    "## Annotate plot, if applicable; still nothing on screen\n",
    "\n",
    "\n",
    "## Close the PDF file device\n",
    "dev.off()\n"
   ]
  },
  {
<<<<<<< HEAD
   "cell_type": "markdown",
   "id": "282ecf22-26b5-4a52-82f5-6a2d0450b93e",
   "metadata": {},
   "source": [
    "## Principal Components\n",
    "\n"
   ]
=======
   "cell_type": "code",
   "execution_count": null,
   "id": "346d0148-95fd-47d4-925f-7805c964de6a",
   "metadata": {},
   "outputs": [],
   "source": []
>>>>>>> f43730ca5679e424442686288b1cf4ae86c1e4a8
  },
  {
   "cell_type": "code",
   "execution_count": null,
<<<<<<< HEAD
   "id": "7824bcbc-efab-4985-8a30-9546e4bfa362",
=======
   "id": "87ddf8e7-0ed1-4cbb-b858-04e6584ba0d5",
>>>>>>> f43730ca5679e424442686288b1cf4ae86c1e4a8
   "metadata": {},
   "outputs": [],
   "source": []
  }
 ],
 "metadata": {
  "kernelspec": {
   "display_name": "R",
   "language": "R",
   "name": "ir"
  },
  "language_info": {
   "codemirror_mode": "r",
   "file_extension": ".r",
   "mimetype": "text/x-r-source",
   "name": "R",
   "pygments_lexer": "r",
   "version": "4.1.3"
  }
 },
 "nbformat": 4,
 "nbformat_minor": 5
}
