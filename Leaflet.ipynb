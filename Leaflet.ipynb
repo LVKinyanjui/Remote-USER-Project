{
  "nbformat": 4,
  "nbformat_minor": 0,
  "metadata": {
    "colab": {
      "provenance": []
    },
    "kernelspec": {
      "name": "ir",
      "display_name": "R"
    },
    "language_info": {
      "name": "R"
    }
  },
  "cells": [
    {
      "cell_type": "markdown",
      "source": [
        "In this short document we are going to be creating a small interactive map using the package leaflet."
      ],
      "metadata": {
        "id": "H6H83nfYYSbE"
      }
    },
    {
      "cell_type": "code",
      "execution_count": null,
      "metadata": {
        "id": "83zC1-X9XAJs",
        "colab": {
          "base_uri": "https://localhost:8080/"
        },
        "outputId": "897d85e4-b903-46d2-ff11-16e8a83aa32f"
      },
      "outputs": [
        {
          "output_type": "stream",
          "name": "stderr",
          "text": [
            "Loading required package: htmlwidgets\n",
            "\n"
          ]
        }
      ],
      "source": [
        "if (!require(leaflet)) {\n",
        "  install.packages(\"leaflet\")\n",
        "}\n",
        "if (!require(htmlwidgets)) {\n",
        "  install.packages(\"htmlwidgets\")\n",
        "}"
      ]
    },
    {
      "cell_type": "code",
      "source": [
        "library(htmlwidgets)\n",
        "library(leaflet)\n",
        "library(IRdisplay)"
      ],
      "metadata": {
        "id": "NkBxYZUGdMdd"
      },
      "execution_count": null,
      "outputs": []
    },
    {
      "cell_type": "code",
      "source": [
        "# Blank slate to start off with\n",
        "m = leaflet() %>% addTiles()"
      ],
      "metadata": {
        "id": "s8tF3UeWYIJS"
      },
      "execution_count": null,
      "outputs": []
    },
    {
      "cell_type": "markdown",
      "source": [
        "We now add a location using cordinates, and a marker for said location."
      ],
      "metadata": {
        "id": "gLy42_sabmLU"
      }
    },
    {
      "cell_type": "code",
      "source": [
        "m = m %>%\n",
        "  addMarkers(lat = 48.858419490471455, lng = 2.2945778572750357, popup = \"The Eiffel Tower\")"
      ],
      "metadata": {
        "id": "7wxqoXa7baon"
      },
      "execution_count": null,
      "outputs": []
    },
    {
      "cell_type": "markdown",
      "source": [
        "Because we are using jupyter notebooks we require further steps to display the map."
      ],
      "metadata": {
        "id": "6PIEDNGygeAq"
      }
    },
    {
      "cell_type": "code",
      "source": [
        "saveWidget(m, 'demo.html', selfcontained = TRUE)\n",
        "#display_html('<iframe src=\"demo.html\"></iframe>')"
      ],
      "metadata": {
        "colab": {
          "base_uri": "https://localhost:8080/",
          "height": 175
        },
        "id": "KBH6gJhTgpan",
        "outputId": "7aae120c-4c2a-4ddc-86a7-da758d537212"
      },
      "execution_count": null,
      "outputs": [
        {
          "output_type": "display_data",
          "data": {
            "text/html": [
              "<iframe src=\"demo.html\"></iframe>"
            ]
          },
          "metadata": {}
        }
      ]
    }
  ]
}