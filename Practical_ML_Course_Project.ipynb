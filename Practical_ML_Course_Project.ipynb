{
  "cells": [
    {
      "cell_type": "markdown",
      "id": "2f7bbbac-8482-4e57-b4a7-509c29468ba3",
      "metadata": {
        "id": "2f7bbbac-8482-4e57-b4a7-509c29468ba3"
      },
      "source": [
        "This is the course project for the Practical Machine Learning Course "
      ]
    },
    {
      "cell_type": "code",
      "execution_count": 54,
      "id": "7f169749-5b90-473f-8828-e4ac2d23d081",
      "metadata": {
        "id": "7f169749-5b90-473f-8828-e4ac2d23d081"
      },
      "outputs": [],
      "source": [
        "if (!require(caret)) {\n",
        "  install.packages(\"caret\")\n",
        "}\n",
        "\n",
        "if (!require(doSNOW)) {\n",
        "  install.packages(\"doSNOW\")\n",
        "}\n",
        "\n",
        "if (!require(randomForest)) {\n",
        "  install.packages(\"randomForest\")\n",
        "}\n",
        "\n",
        "if (!require(gbm)) {\n",
        "  install.packages(\"gbm\")\n",
        "}\n",
        "\n",
        "if (!require(ada)) {\n",
        "  install.packages(\"ada\")\n",
        "}"
      ]
    },
    {
      "cell_type": "code",
      "execution_count": 55,
      "id": "Ou9E2qLmqfj6",
      "metadata": {
        "id": "Ou9E2qLmqfj6"
      },
      "outputs": [],
      "source": [
        "library(caret)\n",
        "library(doSNOW)\n",
        "library(tidyverse)\n",
        "library(lattice)\n",
        "library(randomForest)\n",
        "library(gbm)\n",
        "library(ada)\n",
        "\n",
        "set.seed(120)"
      ]
    },
    {
      "cell_type": "markdown",
      "id": "c040e124-2176-43b9-8ca4-a3cb4f9c4a4e",
      "metadata": {
        "id": "c040e124-2176-43b9-8ca4-a3cb4f9c4a4e"
      },
      "source": [
        "## Data\n",
        "\n",
        "The data for this project come from this source: http://web.archive.org/web/20161224072740/http:/groupware.les.inf.puc-rio.br/har. We will try to cite them as they have been very generous in allowing their data to be used for this kind of assignment."
      ]
    },
    {
      "cell_type": "code",
      "execution_count": 56,
      "id": "976dccc0-a8a9-4c13-a4bb-53cb399c9739",
      "metadata": {
        "id": "976dccc0-a8a9-4c13-a4bb-53cb399c9739"
      },
      "outputs": [],
      "source": [
        "url1 = 'https://d396qusza40orc.cloudfront.net/predmachlearn/pml-training.csv'\n",
        "url2 = 'https://d396qusza40orc.cloudfront.net/predmachlearn/pml-testing.csv'\n",
        "\n",
        "path1 = \"./data/prediction_training.csv\"\n",
        "path2 = \"./data/prediction_testing.csv\"\n",
        "\n",
        "if(!dir.exists(\"./data\")) {\n",
        "  dir.create(\"./data\")\n",
        "}\n",
        "\n",
        "if (!file.exists(path1)) {\n",
        "    download.file(url1, path1)\n",
        "}\n",
        "\n",
        "if (!file.exists(path2)) {\n",
        "    download.file(url2, path2)\n",
        "}"
      ]
    },
    {
      "cell_type": "code",
      "execution_count": 57,
      "id": "6c1b0610-4cea-44a7-a1c6-e7990b221f4e",
      "metadata": {
        "id": "6c1b0610-4cea-44a7-a1c6-e7990b221f4e"
      },
      "outputs": [],
      "source": [
        "## Loading in datasets\n",
        "\n",
        "training = read.csv(path1)\n",
        "testing = read.csv(path2)"
      ]
    },
    {
      "cell_type": "code",
      "execution_count": 58,
      "id": "794ba197",
      "metadata": {
        "id": "794ba197"
      },
      "outputs": [],
      "source": [
        "# Isolating the label variable for later use\n",
        "label = training$classe"
      ]
    },
    {
      "cell_type": "markdown",
      "id": "4cdc46b9-c774-4bdd-990a-f3209bbd4442",
      "metadata": {
        "id": "4cdc46b9-c774-4bdd-990a-f3209bbd4442"
      },
      "source": [
        "## Exploration\n",
        "\n",
        "We now proceed to do some data analysis. A technique that will be useful for us will be clustering and the help of heatmaps. But if we are to use these we need to ditch all non numeric variables."
      ]
    },
    {
      "cell_type": "markdown",
      "id": "kFf8ZVEBzmeo",
      "metadata": {
        "id": "kFf8ZVEBzmeo"
      },
      "source": [
        "### Resolving Variable type\n",
        "\n",
        "I would like to modify the variables that are problematic.\n",
        "\n",
        "- First, to systematically replace empty strings with missing values by coercing to numeric\n",
        "- Second, to make all the variables in the dataframe that are still not coercible to numeric into factor variables. This will allow us to create **dummy variables** out of them later on."
      ]
    },
    {
      "cell_type": "code",
      "execution_count": 59,
      "id": "z6ugKypKTsjw",
      "metadata": {
        "id": "z6ugKypKTsjw",
        "colab": {
          "base_uri": "https://localhost:8080/"
        },
        "outputId": "5305cea6-fe86-45ef-af7b-d7b31d19dfcb"
      },
      "outputs": [
        {
          "output_type": "stream",
          "name": "stderr",
          "text": [
            "Warning message in apply(training, 2, as.numeric):\n",
            "“NAs introduced by coercion”\n",
            "Warning message in apply(training, 2, as.numeric):\n",
            "“NAs introduced by coercion”\n",
            "Warning message in apply(training, 2, as.numeric):\n",
            "“NAs introduced by coercion”\n",
            "Warning message in apply(training, 2, as.numeric):\n",
            "“NAs introduced by coercion”\n",
            "Warning message in apply(training, 2, as.numeric):\n",
            "“NAs introduced by coercion”\n",
            "Warning message in apply(training, 2, as.numeric):\n",
            "“NAs introduced by coercion”\n",
            "Warning message in apply(training, 2, as.numeric):\n",
            "“NAs introduced by coercion”\n",
            "Warning message in apply(training, 2, as.numeric):\n",
            "“NAs introduced by coercion”\n",
            "Warning message in apply(training, 2, as.numeric):\n",
            "“NAs introduced by coercion”\n",
            "Warning message in apply(training, 2, as.numeric):\n",
            "“NAs introduced by coercion”\n",
            "Warning message in apply(training, 2, as.numeric):\n",
            "“NAs introduced by coercion”\n",
            "Warning message in apply(training, 2, as.numeric):\n",
            "“NAs introduced by coercion”\n",
            "Warning message in apply(training, 2, as.numeric):\n",
            "“NAs introduced by coercion”\n",
            "Warning message in apply(training, 2, as.numeric):\n",
            "“NAs introduced by coercion”\n",
            "Warning message in apply(training, 2, as.numeric):\n",
            "“NAs introduced by coercion”\n",
            "Warning message in apply(training, 2, as.numeric):\n",
            "“NAs introduced by coercion”\n",
            "Warning message in apply(training, 2, as.numeric):\n",
            "“NAs introduced by coercion”\n",
            "Warning message in apply(training, 2, as.numeric):\n",
            "“NAs introduced by coercion”\n",
            "Warning message in apply(training, 2, as.numeric):\n",
            "“NAs introduced by coercion”\n",
            "Warning message in apply(training, 2, as.numeric):\n",
            "“NAs introduced by coercion”\n",
            "Warning message in apply(training, 2, as.numeric):\n",
            "“NAs introduced by coercion”\n",
            "Warning message in apply(training, 2, as.numeric):\n",
            "“NAs introduced by coercion”\n",
            "Warning message in apply(training, 2, as.numeric):\n",
            "“NAs introduced by coercion”\n",
            "Warning message in apply(training, 2, as.numeric):\n",
            "“NAs introduced by coercion”\n",
            "Warning message in apply(training, 2, as.numeric):\n",
            "“NAs introduced by coercion”\n",
            "Warning message in apply(training, 2, as.numeric):\n",
            "“NAs introduced by coercion”\n",
            "Warning message in apply(training, 2, as.numeric):\n",
            "“NAs introduced by coercion”\n",
            "Warning message in apply(training, 2, as.numeric):\n",
            "“NAs introduced by coercion”\n",
            "Warning message in apply(training, 2, as.numeric):\n",
            "“NAs introduced by coercion”\n",
            "Warning message in apply(training, 2, as.numeric):\n",
            "“NAs introduced by coercion”\n",
            "Warning message in apply(training, 2, as.numeric):\n",
            "“NAs introduced by coercion”\n",
            "Warning message in apply(training, 2, as.numeric):\n",
            "“NAs introduced by coercion”\n",
            "Warning message in apply(training, 2, as.numeric):\n",
            "“NAs introduced by coercion”\n",
            "Warning message in apply(training, 2, as.numeric):\n",
            "“NAs introduced by coercion”\n",
            "Warning message in apply(training, 2, as.numeric):\n",
            "“NAs introduced by coercion”\n",
            "Warning message in apply(training, 2, as.numeric):\n",
            "“NAs introduced by coercion”\n",
            "Warning message in apply(training, 2, as.numeric):\n",
            "“NAs introduced by coercion”\n"
          ]
        }
      ],
      "source": [
        "# Coercing to numeric\n",
        "training = apply(training, 2, as.numeric) %>% as.data.frame %>%\n",
        "\n",
        "# Batch replacing back for missing values with their selected character values.\n",
        "mutate(select(training, c(user_name, raw_timestamp_part_1, cvtd_timestamp, new_window )))"
      ]
    },
    {
      "cell_type": "markdown",
      "id": "tiMTADZQuoXO",
      "metadata": {
        "id": "tiMTADZQuoXO"
      },
      "source": [
        "Missing values will also present a problem when constructing the heatmap. I think it would be good to see variable by variable, the percentage of missing values for each so that we can see which to keep."
      ]
    },
    {
      "cell_type": "code",
      "execution_count": 60,
      "id": "bWrlUyQsvWW4",
      "metadata": {
        "id": "bWrlUyQsvWW4"
      },
      "outputs": [],
      "source": [
        "training_na = apply(training, 2, function(x) {is.na(x) %>% sum})"
      ]
    },
    {
      "cell_type": "code",
      "execution_count": 61,
      "id": "gskyUe96zdjR",
      "metadata": {
        "id": "gskyUe96zdjR",
        "colab": {
          "base_uri": "https://localhost:8080/",
          "height": 437
        },
        "outputId": "70f346aa-0176-4a27-d2ae-3fc872d03041"
      },
      "outputs": [
        {
          "output_type": "display_data",
          "data": {
            "text/plain": [
              "plot without title"
            ],
            "image/png": "[encoded data removed]"
          },
          "metadata": {
            "image/png": {
              "width": 420,
              "height": 420
            }
          }
        }
      ],
      "source": [
        "barplot(training_na, xlab = 'Rowa', ylab = 'Number of NAs', ylim = c(0, 20000))\n",
        "abline(h = nrow(training))"
      ]
    },
    {
      "cell_type": "markdown",
      "id": "hzoh7yfO0Pi5",
      "metadata": {
        "id": "hzoh7yfO0Pi5"
      },
      "source": [
        "Those long bars show variables that are almost entirely composed of missing values. Given this scale it would perhaps be best to discard them since they will only cause problems for us later on."
      ]
    },
    {
      "cell_type": "code",
      "execution_count": 62,
      "id": "hxb474eXuI5C",
      "metadata": {
        "id": "hxb474eXuI5C"
      },
      "outputs": [],
      "source": [
        "training = select(training, where(function(x) is.na(x) %>% sum == 0))"
      ]
    },
    {
      "cell_type": "code",
      "execution_count": 63,
      "id": "7fe33d87",
      "metadata": {
        "id": "7fe33d87"
      },
      "outputs": [],
      "source": [
        "# adding the label variable\n",
        "training = mutate(training, label = label, .before = 1)"
      ]
    },
    {
      "cell_type": "markdown",
      "source": [
        "# Model 1: Little Preprocessing"
      ],
      "metadata": {
        "id": "UhbnvBgJMC1p"
      },
      "id": "UhbnvBgJMC1p"
    },
    {
      "cell_type": "markdown",
      "source": [
        "## Functions for our Work\n",
        "\n",
        "Its nice to wrap up all our code in a function we can reuse;  our training function."
      ],
      "metadata": {
        "id": "sFTKIVx_Mc6T"
      },
      "id": "sFTKIVx_Mc6T"
    },
    {
      "cell_type": "code",
      "execution_count": 64,
      "id": "5a3e7553",
      "metadata": {
        "id": "5a3e7553"
      },
      "outputs": [],
      "source": [
        "cv_folds = createMultiFolds(y = training$label, k = 10, times = 5)\n",
        "cv_control = trainControl(\n",
        "                method = \"repeatedcv\",\n",
        "                number = 10,\n",
        "                repeats = 3,\n",
        "                index = cv_folds # Necessary: Specifies actual folds for stratified CV\n",
        ")"
      ]
    },
    {
      "cell_type": "code",
      "execution_count": 65,
      "id": "uFs8ArbcW_1x",
      "metadata": {
        "id": "uFs8ArbcW_1x"
      },
      "outputs": [],
      "source": [
        "model_multithreading = function(data, cores = 1, train_control, method, tune_length) {\n",
        "  time1 = Sys.time()\n",
        "\n",
        "  # Creates a doSNOW cluster for doing parallel work.\n",
        "  cl = makeCluster(cores, type = \"SOCK\")\n",
        "\n",
        "  #Notifies caret that training in parallel is available\n",
        "  registerDoSNOW(cl)\n",
        "\n",
        "  # Specific Function\n",
        "  # To be replaced with a function passed in by argument\n",
        "  modelFit = train(label ~. , method = method, data = data, \n",
        "                 trControl = train_control, \n",
        "                 tuneLength = tune_length\n",
        "                )\n",
        "\n",
        "  stopCluster(cl)\n",
        "  time2 = Sys.time()\n",
        "\n",
        "  print(time2 - time1)\n",
        "  return(modelFit)\n",
        "\n",
        "}"
      ]
    },
    {
      "cell_type": "code",
      "source": [
        "modelFit1 = model_multithreading(training, cv_control, method = \"lda\", tune_length = 5, cores = 6)"
      ],
      "metadata": {
        "colab": {
          "base_uri": "https://localhost:8080/"
        },
        "id": "P7EpcEdnSKBd",
        "outputId": "a03989c7-3b9b-4301-be59-345ce53edf54"
      },
      "id": "P7EpcEdnSKBd",
      "execution_count": 66,
      "outputs": [
        {
          "output_type": "stream",
          "name": "stderr",
          "text": [
            "Warning message in lda.default(x, grouping, ...):\n",
            "“variables are collinear”\n"
          ]
        },
        {
          "output_type": "stream",
          "name": "stdout",
          "text": [
            "Time difference of 44.78447 secs\n"
          ]
        }
      ]
    },
    {
      "cell_type": "code",
      "source": [
        "modelFit1"
      ],
      "metadata": {
        "id": "t-cucijPSgVx",
        "colab": {
          "base_uri": "https://localhost:8080/",
          "height": 243
        },
        "outputId": "920493fb-73a7-49e0-c56d-816d13ba01eb"
      },
      "id": "t-cucijPSgVx",
      "execution_count": 67,
      "outputs": [
        {
          "output_type": "display_data",
          "data": {
            "text/plain": [
              "Linear Discriminant Analysis \n",
              "\n",
              "19622 samples\n",
              "   59 predictor\n",
              "    5 classes: 'A', 'B', 'C', 'D', 'E' \n",
              "\n",
              "No pre-processing\n",
              "Resampling: Cross-Validated (10 fold, repeated 3 times) \n",
              "Summary of sample sizes: 17659, 17660, 17661, 17661, 17659, 17658, ... \n",
              "Resampling results:\n",
              "\n",
              "  Accuracy   Kappa    \n",
              "  0.9999388  0.9999226\n"
            ]
          },
          "metadata": {}
        }
      ]
    },
    {
      "cell_type": "code",
      "source": [
        "predict(modelFit1, newdata = testing)"
      ],
      "metadata": {
        "colab": {
          "base_uri": "https://localhost:8080/",
          "height": 52
        },
        "id": "Liso-Qa0WxIs",
        "outputId": "96975c5d-a5cd-4b0b-a15a-ed13d701be73"
      },
      "id": "Liso-Qa0WxIs",
      "execution_count": 53,
      "outputs": [
        {
          "output_type": "display_data",
          "data": {
            "text/html": [
              "<style>\n",
              ".list-inline {list-style: none; margin:0; padding: 0}\n",
              ".list-inline>li {display: inline-block}\n",
              ".list-inline>li:not(:last-child)::after {content: \"\\00b7\"; padding: 0 .5ex}\n",
              "</style>\n",
              "<ol class=list-inline><li>A</li><li>A</li><li>A</li><li>A</li><li>A</li><li>A</li><li>A</li><li>A</li><li>A</li><li>A</li><li>A</li><li>A</li><li>A</li><li>A</li><li>A</li><li>A</li><li>A</li><li>A</li><li>A</li><li>A</li></ol>\n",
              "\n",
              "<details>\n",
              "\t<summary style=display:list-item;cursor:pointer>\n",
              "\t\t<strong>Levels</strong>:\n",
              "\t</summary>\n",
              "\t<style>\n",
              "\t.list-inline {list-style: none; margin:0; padding: 0}\n",
              "\t.list-inline>li {display: inline-block}\n",
              "\t.list-inline>li:not(:last-child)::after {content: \"\\00b7\"; padding: 0 .5ex}\n",
              "\t</style>\n",
              "\t<ol class=list-inline><li>'A'</li><li>'B'</li><li>'C'</li><li>'D'</li><li>'E'</li></ol>\n",
              "</details>"
            ],
            "text/markdown": "1. A\n2. A\n3. A\n4. A\n5. A\n6. A\n7. A\n8. A\n9. A\n10. A\n11. A\n12. A\n13. A\n14. A\n15. A\n16. A\n17. A\n18. A\n19. A\n20. A\n\n\n\n**Levels**: 1. 'A'\n2. 'B'\n3. 'C'\n4. 'D'\n5. 'E'\n\n\n",
            "text/latex": "\\begin{enumerate*}\n\\item A\n\\item A\n\\item A\n\\item A\n\\item A\n\\item A\n\\item A\n\\item A\n\\item A\n\\item A\n\\item A\n\\item A\n\\item A\n\\item A\n\\item A\n\\item A\n\\item A\n\\item A\n\\item A\n\\item A\n\\end{enumerate*}\n\n\\emph{Levels}: \\begin{enumerate*}\n\\item 'A'\n\\item 'B'\n\\item 'C'\n\\item 'D'\n\\item 'E'\n\\end{enumerate*}\n",
            "text/plain": [
              " [1] A A A A A A A A A A A A A A A A A A A A\n",
              "Levels: A B C D E"
            ]
          },
          "metadata": {}
        }
      ]
    },
    {
      "cell_type": "markdown",
      "id": "Qo2Lqz5FZ6BA",
      "metadata": {
        "id": "Qo2Lqz5FZ6BA"
      },
      "source": [
        "# Model 2"
      ]
    },
    {
      "cell_type": "markdown",
      "id": "mGpRJZqKKEL9",
      "metadata": {
        "id": "mGpRJZqKKEL9"
      },
      "source": [
        "## Preprocessing"
      ]
    },
    {
      "cell_type": "markdown",
      "id": "0a-yS1LLKLSh",
      "metadata": {
        "id": "0a-yS1LLKLSh"
      },
      "source": [
        "Covariates are variables that describe the data as much as possible while allowing for compression and fitting of models.  \n",
        "We want to balance summarization and information loss."
      ]
    },
    {
      "cell_type": "markdown",
      "id": "DeVdjjYCRlQj",
      "metadata": {
        "id": "DeVdjjYCRlQj"
      },
      "source": [
        "### Dummy Variables"
      ]
    },
    {
      "cell_type": "markdown",
      "id": "JlHhLnxRuyo-",
      "metadata": {
        "id": "JlHhLnxRuyo-"
      },
      "source": [
        "caret includes several functions to pre-process the predictor data. It assumes that all of the data are numeric (i.e. factors have been converted to dummy variables via <code> model.matrix </code>, <code> dummyVars </code> or other means)."
      ]
    },
    {
      "cell_type": "code",
      "execution_count": 18,
      "id": "PZSR--P8e9Ah",
      "metadata": {
        "id": "PZSR--P8e9Ah"
      },
      "outputs": [],
      "source": [
        "# Separating the date and time sections into different variables\n",
        "training = tidyr::separate(training, cvtd_timestamp, sep= \" \", into = c(\"cvtd_datetamp\", \"cvtd_timestamp\")) %>%\n",
        "                select(-cvtd_timestamp)\n",
        "\n",
        "# Converting into date time object\n",
        "training = mutate(training, cvtd_datestamp =  lubridate::dmy(training$cvtd_datetamp))"
      ]
    },
    {
      "cell_type": "code",
      "execution_count": 19,
      "id": "JHSeDbNWmnZf",
      "metadata": {
        "id": "JHSeDbNWmnZf"
      },
      "outputs": [],
      "source": [
        "training =\n",
        "select(training, -c(user_name, new_window)) %>% \n",
        "  # Adding dummy variables \n",
        "  cbind(model.matrix(label ~., data = select(training, user_name, new_window)))"
      ]
    },
    {
      "cell_type": "markdown",
      "id": "JUGukxIWQRzu",
      "metadata": {
        "id": "JUGukxIWQRzu"
      },
      "source": [
        "### Zero Variance Predictors\n",
        "\n",
        "These are predictors might have only a handful of unique values that occur with very low frequencies. These may cause training methods to be unstable.\n"
      ]
    },
    {
      "cell_type": "markdown",
      "id": "ANaWA-ysRzFh",
      "metadata": {
        "id": "ANaWA-ysRzFh"
      },
      "source": [
        "<code> nearZeroVar() </code> returns index locations of the columns that fall below a certain frequency threshold usually 95/5."
      ]
    },
    {
      "cell_type": "code",
      "execution_count": 20,
      "id": "ORYho5pqQQ11",
      "metadata": {
        "id": "ORYho5pqQQ11"
      },
      "outputs": [],
      "source": [
        "train_numeric = select(training, where(is.numeric))\n",
        "nzv = nearZeroVar(train_numeric)\n"
      ]
    },
    {
      "cell_type": "code",
      "execution_count": 21,
      "id": "C5loFYntSa-_",
      "metadata": {
        "id": "C5loFYntSa-_"
      },
      "outputs": [],
      "source": [
        "#Removing non zero variables\n",
        "training = select(training, -names(train_numeric)[nzv])"
      ]
    },
    {
      "cell_type": "markdown",
      "id": "-o88wxo-UJK8",
      "metadata": {
        "id": "-o88wxo-UJK8"
      },
      "source": [
        "### The preProcess Function\n",
        "\n",
        "The preProcess class can be used for many operations on predictors, including centering and scaling. The function preProcess estimates the required parameters for each operation and <code> predict.preProcess </code> is used to apply them to specific data sets.\n"
      ]
    },
    {
      "cell_type": "markdown",
      "id": "9tTris-IkpmU",
      "metadata": {
        "id": "9tTris-IkpmU"
      },
      "source": [
        "#### Center and Scaling\n",
        "\n",
        "The function preProcess doesn’t actually pre-process the data. <code> predict.preProcess </code>is used to pre-process this and other data sets.  \n",
        "\n",
        "Passing in the dataset, note that non-numeric predictors are allowed but will be ignored."
      ]
    },
    {
      "cell_type": "markdown",
      "id": "LuIUEUnJnT7N",
      "metadata": {
        "id": "LuIUEUnJnT7N"
      },
      "source": [
        "#### Imputation\n",
        "\n",
        "<code> preProcess </code> can be used to impute data sets (if necessary) based only on information in the training set. Methods include:\n",
        "- K-nearest neighbors.\n",
        "- Bagging. Better performance but more computationally intensive."
      ]
    },
    {
      "cell_type": "markdown",
      "id": "wAXcUnjmoBEu",
      "metadata": {
        "id": "wAXcUnjmoBEu"
      },
      "source": [
        "#### PCA\n",
        "\n",
        "Apply this transformation involves including \"pca\" in the method argument. Doing this will also force scaling of the predictors. \n",
        "   \n",
        "Note that when PCA is requested, predict.preProcess changes the column names to PC1, PC2, ..., PCn."
      ]
    },
    {
      "cell_type": "markdown",
      "id": "71GUf8kSqHyF",
      "metadata": {
        "id": "71GUf8kSqHyF"
      },
      "source": [
        "Also, \n",
        "we can add this filter to check near zero-variance predictors prior to running the pre-processing calculations. Some models like that."
      ]
    },
    {
      "cell_type": "code",
      "execution_count": 22,
      "id": "mGlnvZKDnL4s",
      "metadata": {
        "id": "mGlnvZKDnL4s"
      },
      "outputs": [],
      "source": [
        "training = \n",
        "preProcess(training, method = c(\"pca\", \"nzv\")) %>%\n",
        "  predict(training)"
      ]
    },
    {
      "cell_type": "markdown",
      "id": "0b557a13",
      "metadata": {
        "id": "0b557a13"
      },
      "source": [
        "## Training\n"
      ]
    },
    {
      "cell_type": "markdown",
      "id": "r1qamlWq09Ol",
      "metadata": {
        "id": "r1qamlWq09Ol"
      },
      "source": [
        "### Tuning\n",
        "\n",
        "This basically involves the following process\n",
        "\n",
        "![Model Tuning](http://topepo.github.io/caret/premade/TrainAlgo.png)\n",
        "\n",
        "Methods available are \n",
        "- k-fold cross-validation (once or repeated)\n",
        "- leave-one-out cross-validation \n",
        "- bootstrap (simple estimation or the 632 rule) "
      ]
    },
    {
      "cell_type": "markdown",
      "id": "NsMJ-2703hG1",
      "metadata": {
        "id": "NsMJ-2703hG1"
      },
      "source": [
        "The function <code> trainControl </code> generates parameters that further control how models are created, with possible values:"
      ]
    },
    {
      "cell_type": "code",
      "source": [
        "modelFit2 = model_multithreading(training, cv_control, method = \"lda\", tune_length = 5, cores = 6)"
      ],
      "metadata": {
        "id": "TfEd_ktGirCd",
        "colab": {
          "base_uri": "https://localhost:8080/"
        },
        "outputId": "714a5fa3-2ee5-4188-e3a8-7f4a5b6d30aa"
      },
      "id": "TfEd_ktGirCd",
      "execution_count": 23,
      "outputs": [
        {
          "output_type": "stream",
          "name": "stderr",
          "text": [
            "Warning message in lda.default(x, grouping, ...):\n",
            "“variables are collinear”\n"
          ]
        },
        {
          "output_type": "stream",
          "name": "stdout",
          "text": [
            "Time difference of 28.5357 secs\n"
          ]
        }
      ]
    },
    {
      "cell_type": "code",
      "source": [
        "modelFit2"
      ],
      "metadata": {
        "colab": {
          "base_uri": "https://localhost:8080/",
          "height": 243
        },
        "id": "tMfauSwoXueL",
        "outputId": "41703034-0c50-4f0f-9f94-84f495113f35"
      },
      "id": "tMfauSwoXueL",
      "execution_count": 24,
      "outputs": [
        {
          "output_type": "display_data",
          "data": {
            "text/plain": [
              "Linear Discriminant Analysis \n",
              "\n",
              "19622 samples\n",
              "   29 predictor\n",
              "    5 classes: 'A', 'B', 'C', 'D', 'E' \n",
              "\n",
              "No pre-processing\n",
              "Resampling: Cross-Validated (10 fold, repeated 3 times) \n",
              "Summary of sample sizes: 17659, 17660, 17661, 17661, 17659, 17658, ... \n",
              "Resampling results:\n",
              "\n",
              "  Accuracy   Kappa    \n",
              "  0.9850375  0.9810801\n"
            ]
          },
          "metadata": {}
        }
      ]
    },
    {
      "cell_type": "code",
      "source": [
        "saveRDS(modelFit2, file = \"./data/model2_lda.rds\")"
      ],
      "metadata": {
        "id": "1mj8t0CsQqkO"
      },
      "id": "1mj8t0CsQqkO",
      "execution_count": 71,
      "outputs": []
    },
    {
      "cell_type": "markdown",
      "id": "upN_judNYtRD",
      "metadata": {
        "id": "upN_judNYtRD"
      },
      "source": [
        "So our model appears to be operating at quite a high accuracy, over 0.99. This is a little hard to believe but given this is in sample it will have to be tested out of sample to verify this."
      ]
    },
    {
      "cell_type": "markdown",
      "id": "BjeZ9rMWMUuU",
      "metadata": {
        "id": "BjeZ9rMWMUuU"
      },
      "source": [
        "## Testing Perfomance\n"
      ]
    },
    {
      "cell_type": "markdown",
      "id": "QAAW4ksiTLeH",
      "metadata": {
        "id": "QAAW4ksiTLeH"
      },
      "source": [
        "Our model predicts all the cases are in class A. It is highly accurate in sample but because i did not create a separate testing set from the training data I have no idea what its out of sample accuracy is.\n"
      ]
    },
    {
      "cell_type": "markdown",
      "id": "yR4vJyIoZfgy",
      "metadata": {
        "id": "yR4vJyIoZfgy"
      },
      "source": [
        "Testing on the Quiz reveals that this model only has 0.35 percent accuracy out of sample. This suggests that it is grossly overfitted."
      ]
    },
    {
      "cell_type": "markdown",
      "source": [
        "# Model 3: With More Preprocessing"
      ],
      "metadata": {
        "id": "YcddRrPCsjso"
      },
      "id": "YcddRrPCsjso"
    },
    {
      "cell_type": "code",
      "source": [
        "# Rereading data\n",
        "training = read.csv(path1)\n",
        "testing = read.csv(path2)"
      ],
      "metadata": {
        "id": "eH69aULltD6b"
      },
      "id": "eH69aULltD6b",
      "execution_count": 72,
      "outputs": []
    },
    {
      "cell_type": "markdown",
      "source": [
        "## Joining sets\n",
        "\n",
        "The need to perform the same cleaning to both the training and testing set would require us to first combine them and then preprocess then. After that the data will be resplit and the model trained and tested"
      ],
      "metadata": {
        "id": "nSg_DP-3aArk"
      },
      "id": "nSg_DP-3aArk"
    },
    {
      "cell_type": "code",
      "source": [
        "# Looking at whether column names match up\n",
        "names(training) == names(testing)\n",
        "\n",
        "# Removing Columns that dont match up\n",
        "training = training[,-160]\n",
        "testing = testing[,-160]"
      ],
      "metadata": {
        "id": "lv7uEmjQZld5",
        "colab": {
          "base_uri": "https://localhost:8080/",
          "height": 191
        },
        "outputId": "5ab3d965-3518-410f-9483-3aac09bb6d66"
      },
      "id": "lv7uEmjQZld5",
      "execution_count": 73,
      "outputs": [
        {
          "output_type": "display_data",
          "data": {
            "text/html": [
              "<style>\n",
              ".list-inline {list-style: none; margin:0; padding: 0}\n",
              ".list-inline>li {display: inline-block}\n",
              ".list-inline>li:not(:last-child)::after {content: \"\\00b7\"; padding: 0 .5ex}\n",
              "</style>\n",
              "<ol class=list-inline><li>TRUE</li><li>TRUE</li><li>TRUE</li><li>TRUE</li><li>TRUE</li><li>TRUE</li><li>TRUE</li><li>TRUE</li><li>TRUE</li><li>TRUE</li><li>TRUE</li><li>TRUE</li><li>TRUE</li><li>TRUE</li><li>TRUE</li><li>TRUE</li><li>TRUE</li><li>TRUE</li><li>TRUE</li><li>TRUE</li><li>TRUE</li><li>TRUE</li><li>TRUE</li><li>TRUE</li><li>TRUE</li><li>TRUE</li><li>TRUE</li><li>TRUE</li><li>TRUE</li><li>TRUE</li><li>TRUE</li><li>TRUE</li><li>TRUE</li><li>TRUE</li><li>TRUE</li><li>TRUE</li><li>TRUE</li><li>TRUE</li><li>TRUE</li><li>TRUE</li><li>TRUE</li><li>TRUE</li><li>TRUE</li><li>TRUE</li><li>TRUE</li><li>TRUE</li><li>TRUE</li><li>TRUE</li><li>TRUE</li><li>TRUE</li><li>TRUE</li><li>TRUE</li><li>TRUE</li><li>TRUE</li><li>TRUE</li><li>TRUE</li><li>TRUE</li><li>TRUE</li><li>TRUE</li><li>TRUE</li><li>TRUE</li><li>TRUE</li><li>TRUE</li><li>TRUE</li><li>TRUE</li><li>TRUE</li><li>TRUE</li><li>TRUE</li><li>TRUE</li><li>TRUE</li><li>TRUE</li><li>TRUE</li><li>TRUE</li><li>TRUE</li><li>TRUE</li><li>TRUE</li><li>TRUE</li><li>TRUE</li><li>TRUE</li><li>TRUE</li><li>TRUE</li><li>TRUE</li><li>TRUE</li><li>TRUE</li><li>TRUE</li><li>TRUE</li><li>TRUE</li><li>TRUE</li><li>TRUE</li><li>TRUE</li><li>TRUE</li><li>TRUE</li><li>TRUE</li><li>TRUE</li><li>TRUE</li><li>TRUE</li><li>TRUE</li><li>TRUE</li><li>TRUE</li><li>TRUE</li><li>TRUE</li><li>TRUE</li><li>TRUE</li><li>TRUE</li><li>TRUE</li><li>TRUE</li><li>TRUE</li><li>TRUE</li><li>TRUE</li><li>TRUE</li><li>TRUE</li><li>TRUE</li><li>TRUE</li><li>TRUE</li><li>TRUE</li><li>TRUE</li><li>TRUE</li><li>TRUE</li><li>TRUE</li><li>TRUE</li><li>TRUE</li><li>TRUE</li><li>TRUE</li><li>TRUE</li><li>TRUE</li><li>TRUE</li><li>TRUE</li><li>TRUE</li><li>TRUE</li><li>TRUE</li><li>TRUE</li><li>TRUE</li><li>TRUE</li><li>TRUE</li><li>TRUE</li><li>TRUE</li><li>TRUE</li><li>TRUE</li><li>TRUE</li><li>TRUE</li><li>TRUE</li><li>TRUE</li><li>TRUE</li><li>TRUE</li><li>TRUE</li><li>TRUE</li><li>TRUE</li><li>TRUE</li><li>TRUE</li><li>TRUE</li><li>TRUE</li><li>TRUE</li><li>TRUE</li><li>TRUE</li><li>TRUE</li><li>TRUE</li><li>TRUE</li><li>TRUE</li><li>TRUE</li><li>FALSE</li></ol>\n"
            ],
            "text/markdown": "1. TRUE\n2. TRUE\n3. TRUE\n4. TRUE\n5. TRUE\n6. TRUE\n7. TRUE\n8. TRUE\n9. TRUE\n10. TRUE\n11. TRUE\n12. TRUE\n13. TRUE\n14. TRUE\n15. TRUE\n16. TRUE\n17. TRUE\n18. TRUE\n19. TRUE\n20. TRUE\n21. TRUE\n22. TRUE\n23. TRUE\n24. TRUE\n25. TRUE\n26. TRUE\n27. TRUE\n28. TRUE\n29. TRUE\n30. TRUE\n31. TRUE\n32. TRUE\n33. TRUE\n34. TRUE\n35. TRUE\n36. TRUE\n37. TRUE\n38. TRUE\n39. TRUE\n40. TRUE\n41. TRUE\n42. TRUE\n43. TRUE\n44. TRUE\n45. TRUE\n46. TRUE\n47. TRUE\n48. TRUE\n49. TRUE\n50. TRUE\n51. TRUE\n52. TRUE\n53. TRUE\n54. TRUE\n55. TRUE\n56. TRUE\n57. TRUE\n58. TRUE\n59. TRUE\n60. TRUE\n61. TRUE\n62. TRUE\n63. TRUE\n64. TRUE\n65. TRUE\n66. TRUE\n67. TRUE\n68. TRUE\n69. TRUE\n70. TRUE\n71. TRUE\n72. TRUE\n73. TRUE\n74. TRUE\n75. TRUE\n76. TRUE\n77. TRUE\n78. TRUE\n79. TRUE\n80. TRUE\n81. TRUE\n82. TRUE\n83. TRUE\n84. TRUE\n85. TRUE\n86. TRUE\n87. TRUE\n88. TRUE\n89. TRUE\n90. TRUE\n91. TRUE\n92. TRUE\n93. TRUE\n94. TRUE\n95. TRUE\n96. TRUE\n97. TRUE\n98. TRUE\n99. TRUE\n100. TRUE\n101. TRUE\n102. TRUE\n103. TRUE\n104. TRUE\n105. TRUE\n106. TRUE\n107. TRUE\n108. TRUE\n109. TRUE\n110. TRUE\n111. TRUE\n112. TRUE\n113. TRUE\n114. TRUE\n115. TRUE\n116. TRUE\n117. TRUE\n118. TRUE\n119. TRUE\n120. TRUE\n121. TRUE\n122. TRUE\n123. TRUE\n124. TRUE\n125. TRUE\n126. TRUE\n127. TRUE\n128. TRUE\n129. TRUE\n130. TRUE\n131. TRUE\n132. TRUE\n133. TRUE\n134. TRUE\n135. TRUE\n136. TRUE\n137. TRUE\n138. TRUE\n139. TRUE\n140. TRUE\n141. TRUE\n142. TRUE\n143. TRUE\n144. TRUE\n145. TRUE\n146. TRUE\n147. TRUE\n148. TRUE\n149. TRUE\n150. TRUE\n151. TRUE\n152. TRUE\n153. TRUE\n154. TRUE\n155. TRUE\n156. TRUE\n157. TRUE\n158. TRUE\n159. TRUE\n160. FALSE\n\n\n",
            "text/latex": "\\begin{enumerate*}\n\\item TRUE\n\\item TRUE\n\\item TRUE\n\\item TRUE\n\\item TRUE\n\\item TRUE\n\\item TRUE\n\\item TRUE\n\\item TRUE\n\\item TRUE\n\\item TRUE\n\\item TRUE\n\\item TRUE\n\\item TRUE\n\\item TRUE\n\\item TRUE\n\\item TRUE\n\\item TRUE\n\\item TRUE\n\\item TRUE\n\\item TRUE\n\\item TRUE\n\\item TRUE\n\\item TRUE\n\\item TRUE\n\\item TRUE\n\\item TRUE\n\\item TRUE\n\\item TRUE\n\\item TRUE\n\\item TRUE\n\\item TRUE\n\\item TRUE\n\\item TRUE\n\\item TRUE\n\\item TRUE\n\\item TRUE\n\\item TRUE\n\\item TRUE\n\\item TRUE\n\\item TRUE\n\\item TRUE\n\\item TRUE\n\\item TRUE\n\\item TRUE\n\\item TRUE\n\\item TRUE\n\\item TRUE\n\\item TRUE\n\\item TRUE\n\\item TRUE\n\\item TRUE\n\\item TRUE\n\\item TRUE\n\\item TRUE\n\\item TRUE\n\\item TRUE\n\\item TRUE\n\\item TRUE\n\\item TRUE\n\\item TRUE\n\\item TRUE\n\\item TRUE\n\\item TRUE\n\\item TRUE\n\\item TRUE\n\\item TRUE\n\\item TRUE\n\\item TRUE\n\\item TRUE\n\\item TRUE\n\\item TRUE\n\\item TRUE\n\\item TRUE\n\\item TRUE\n\\item TRUE\n\\item TRUE\n\\item TRUE\n\\item TRUE\n\\item TRUE\n\\item TRUE\n\\item TRUE\n\\item TRUE\n\\item TRUE\n\\item TRUE\n\\item TRUE\n\\item TRUE\n\\item TRUE\n\\item TRUE\n\\item TRUE\n\\item TRUE\n\\item TRUE\n\\item TRUE\n\\item TRUE\n\\item TRUE\n\\item TRUE\n\\item TRUE\n\\item TRUE\n\\item TRUE\n\\item TRUE\n\\item TRUE\n\\item TRUE\n\\item TRUE\n\\item TRUE\n\\item TRUE\n\\item TRUE\n\\item TRUE\n\\item TRUE\n\\item TRUE\n\\item TRUE\n\\item TRUE\n\\item TRUE\n\\item TRUE\n\\item TRUE\n\\item TRUE\n\\item TRUE\n\\item TRUE\n\\item TRUE\n\\item TRUE\n\\item TRUE\n\\item TRUE\n\\item TRUE\n\\item TRUE\n\\item TRUE\n\\item TRUE\n\\item TRUE\n\\item TRUE\n\\item TRUE\n\\item TRUE\n\\item TRUE\n\\item TRUE\n\\item TRUE\n\\item TRUE\n\\item TRUE\n\\item TRUE\n\\item TRUE\n\\item TRUE\n\\item TRUE\n\\item TRUE\n\\item TRUE\n\\item TRUE\n\\item TRUE\n\\item TRUE\n\\item TRUE\n\\item TRUE\n\\item TRUE\n\\item TRUE\n\\item TRUE\n\\item TRUE\n\\item TRUE\n\\item TRUE\n\\item TRUE\n\\item TRUE\n\\item TRUE\n\\item TRUE\n\\item TRUE\n\\item TRUE\n\\item TRUE\n\\item TRUE\n\\item FALSE\n\\end{enumerate*}\n",
            "text/plain": [
              "  [1]  TRUE  TRUE  TRUE  TRUE  TRUE  TRUE  TRUE  TRUE  TRUE  TRUE  TRUE  TRUE\n",
              " [13]  TRUE  TRUE  TRUE  TRUE  TRUE  TRUE  TRUE  TRUE  TRUE  TRUE  TRUE  TRUE\n",
              " [25]  TRUE  TRUE  TRUE  TRUE  TRUE  TRUE  TRUE  TRUE  TRUE  TRUE  TRUE  TRUE\n",
              " [37]  TRUE  TRUE  TRUE  TRUE  TRUE  TRUE  TRUE  TRUE  TRUE  TRUE  TRUE  TRUE\n",
              " [49]  TRUE  TRUE  TRUE  TRUE  TRUE  TRUE  TRUE  TRUE  TRUE  TRUE  TRUE  TRUE\n",
              " [61]  TRUE  TRUE  TRUE  TRUE  TRUE  TRUE  TRUE  TRUE  TRUE  TRUE  TRUE  TRUE\n",
              " [73]  TRUE  TRUE  TRUE  TRUE  TRUE  TRUE  TRUE  TRUE  TRUE  TRUE  TRUE  TRUE\n",
              " [85]  TRUE  TRUE  TRUE  TRUE  TRUE  TRUE  TRUE  TRUE  TRUE  TRUE  TRUE  TRUE\n",
              " [97]  TRUE  TRUE  TRUE  TRUE  TRUE  TRUE  TRUE  TRUE  TRUE  TRUE  TRUE  TRUE\n",
              "[109]  TRUE  TRUE  TRUE  TRUE  TRUE  TRUE  TRUE  TRUE  TRUE  TRUE  TRUE  TRUE\n",
              "[121]  TRUE  TRUE  TRUE  TRUE  TRUE  TRUE  TRUE  TRUE  TRUE  TRUE  TRUE  TRUE\n",
              "[133]  TRUE  TRUE  TRUE  TRUE  TRUE  TRUE  TRUE  TRUE  TRUE  TRUE  TRUE  TRUE\n",
              "[145]  TRUE  TRUE  TRUE  TRUE  TRUE  TRUE  TRUE  TRUE  TRUE  TRUE  TRUE  TRUE\n",
              "[157]  TRUE  TRUE  TRUE FALSE"
            ]
          },
          "metadata": {}
        }
      ]
    },
    {
      "cell_type": "markdown",
      "source": [
        "We learnt that the last columns do not match up. For the training set it is the label/classe variable and for the testing set it is a problem_id column.\n",
        "\n",
        "It is best to remove them then call <code> rbind() </code> on them"
      ],
      "metadata": {
        "id": "IPAA2Ddnc9lg"
      },
      "id": "IPAA2Ddnc9lg"
    },
    {
      "cell_type": "code",
      "source": [
        "joint_set = rbind(testing, training)"
      ],
      "metadata": {
        "id": "8HXa5b96ZEkU"
      },
      "id": "8HXa5b96ZEkU",
      "execution_count": 74,
      "outputs": []
    },
    {
      "cell_type": "markdown",
      "id": "saHwsrnN7aXv",
      "metadata": {
        "id": "saHwsrnN7aXv"
      },
      "source": [
        "## Preprocessing Function\n",
        "\n",
        "In the same way we preprocessed the training set we also have to do the same to the testing set so that we can make predictions on it.\n"
      ]
    },
    {
      "cell_type": "code",
      "execution_count": 75,
      "id": "s3xmVRsA89-x",
      "metadata": {
        "id": "s3xmVRsA89-x"
      },
      "outputs": [],
      "source": [
        "preprocessing_datasets = function (data_frame) {\n",
        "  set.seed(120)\n",
        "    # Coercing to numeric\n",
        "  data_frame = apply(data_frame, 2, as.numeric) %>% as.data.frame %>%\n",
        "\n",
        "  # Batch replacing back for missing values with their selected character values.\n",
        "  mutate(select(data_frame, c(user_name, raw_timestamp_part_1, cvtd_timestamp, new_window )))\n",
        "  # Removing missing value columns\n",
        "  data_frame = select(data_frame, where(function(x) is.na(x) %>% sum == 0))\n",
        "\n",
        "  # Separating the date and time sections into different variables\n",
        "  data_frame = tidyr::separate(data_frame, cvtd_timestamp, sep= \" \", into = c(\"cvtd_datetamp\", \"cvtd_timestamp\")) %>%\n",
        "                  select(-cvtd_timestamp)\n",
        "\n",
        "  # Converting into date time object\n",
        "  data_frame = mutate(data_frame, cvtd_datestamp =  lubridate::dmy(data_frame$cvtd_datetamp))\n",
        "\n",
        "  # Error handling\n",
        "  \n",
        "  tryCatch(\t\t\t\n",
        "\n",
        "  # Specifying expression\n",
        "  expr = {\t\t\t\t\t\n",
        "      # Adding dummy variables\n",
        "      data_frame =\n",
        "      select(data_frame, -c(user_name, new_window)) %>% \n",
        "      \n",
        "      cbind(model.matrix(~., data = select(data_frame, user_name, new_window)))\n",
        "  },\n",
        "  # Specifying error message\n",
        "  error = function(e){\t\t\n",
        "    print(\"There was an error message.\")\n",
        "  },\n",
        "\n",
        "  finally = {\t\t\t\n",
        "      train_numeric = select(data_frame, where(is.numeric))\n",
        "      nzv = nearZeroVar(train_numeric)\n",
        "\n",
        "      #Removing non zero variables\n",
        "      data_frame = select(data_frame, -names(train_numeric)[nzv])\n",
        "\n",
        "      train_numeric = select(data_frame, where(is.numeric))\n",
        "      nzv = nearZeroVar(train_numeric)\n",
        "\n",
        "      #Removing non zero variables and doing pca\n",
        "      data_frame = preProcess(data_frame, method = c(\"pca\", \"nzv\")) %>%\n",
        "          predict(data_frame)\n",
        "\n",
        "      return(data_frame)\n",
        "  }\n",
        "  )\n",
        "\n",
        "}\n"
      ]
    },
    {
      "cell_type": "code",
      "execution_count": 76,
      "id": "mb1GhUGBE40n",
      "metadata": {
        "id": "mb1GhUGBE40n"
      },
      "outputs": [],
      "source": [
        "clean_set = preprocessing_datasets(joint_set)\n",
        "\n",
        "# Removing duplicate column\n",
        "clean_set = select(clean_set, -c(cvtd_datetamp, cvtd_datestamp))"
      ]
    },
    {
      "cell_type": "markdown",
      "source": [
        "## Resplitting\n",
        "\n",
        "We select the first twenty records as these correspond to the original testing set which needs to remain as is."
      ],
      "metadata": {
        "id": "wTHqMXcMeoBg"
      },
      "id": "wTHqMXcMeoBg"
    },
    {
      "cell_type": "code",
      "source": [
        "testing = clean_set[1:20,]\n",
        "training = clean_set[-c(1:20),]\n",
        "\n",
        "# Adding back label column\n",
        "training = mutate(training, label = label)"
      ],
      "metadata": {
        "id": "_PrDrq2Afrjs"
      },
      "id": "_PrDrq2Afrjs",
      "execution_count": 77,
      "outputs": []
    },
    {
      "cell_type": "markdown",
      "source": [
        "## Training"
      ],
      "metadata": {
        "id": "9ZJjd4Rkszdf"
      },
      "id": "9ZJjd4Rkszdf"
    },
    {
      "cell_type": "code",
      "source": [
        "modelFit3 = model_multithreading(training, cv_control, method = \"lda\", tune_length = 5, cores = 6)"
      ],
      "metadata": {
        "id": "XK6q8QYosx9V",
        "colab": {
          "base_uri": "https://localhost:8080/"
        },
        "outputId": "a4f10231-363c-4c15-c4bc-26b0fdb4f042"
      },
      "id": "XK6q8QYosx9V",
      "execution_count": 78,
      "outputs": [
        {
          "output_type": "stream",
          "name": "stdout",
          "text": [
            "Time difference of 26.9893 secs\n"
          ]
        }
      ]
    },
    {
      "cell_type": "markdown",
      "source": [
        "## Testing"
      ],
      "metadata": {
        "id": "0SvSrYgrtSNn"
      },
      "id": "0SvSrYgrtSNn"
    },
    {
      "cell_type": "code",
      "source": [
        "predict(modelFit3, newdata = testing)"
      ],
      "metadata": {
        "id": "yaLxSevGtWLh",
        "colab": {
          "base_uri": "https://localhost:8080/",
          "height": 52
        },
        "outputId": "ca13f3d1-c5cd-49fa-f6a0-ac7ab8fb89a5"
      },
      "id": "yaLxSevGtWLh",
      "execution_count": 79,
      "outputs": [
        {
          "output_type": "display_data",
          "data": {
            "text/html": [
              "<style>\n",
              ".list-inline {list-style: none; margin:0; padding: 0}\n",
              ".list-inline>li {display: inline-block}\n",
              ".list-inline>li:not(:last-child)::after {content: \"\\00b7\"; padding: 0 .5ex}\n",
              "</style>\n",
              "<ol class=list-inline><li>A</li><li>A</li><li>A</li><li>A</li><li>A</li><li>A</li><li>A</li><li>A</li><li>A</li><li>A</li><li>A</li><li>A</li><li>A</li><li>A</li><li>A</li><li>A</li><li>A</li><li>A</li><li>A</li><li>A</li></ol>\n",
              "\n",
              "<details>\n",
              "\t<summary style=display:list-item;cursor:pointer>\n",
              "\t\t<strong>Levels</strong>:\n",
              "\t</summary>\n",
              "\t<style>\n",
              "\t.list-inline {list-style: none; margin:0; padding: 0}\n",
              "\t.list-inline>li {display: inline-block}\n",
              "\t.list-inline>li:not(:last-child)::after {content: \"\\00b7\"; padding: 0 .5ex}\n",
              "\t</style>\n",
              "\t<ol class=list-inline><li>'A'</li><li>'B'</li><li>'C'</li><li>'D'</li><li>'E'</li></ol>\n",
              "</details>"
            ],
            "text/markdown": "1. A\n2. A\n3. A\n4. A\n5. A\n6. A\n7. A\n8. A\n9. A\n10. A\n11. A\n12. A\n13. A\n14. A\n15. A\n16. A\n17. A\n18. A\n19. A\n20. A\n\n\n\n**Levels**: 1. 'A'\n2. 'B'\n3. 'C'\n4. 'D'\n5. 'E'\n\n\n",
            "text/latex": "\\begin{enumerate*}\n\\item A\n\\item A\n\\item A\n\\item A\n\\item A\n\\item A\n\\item A\n\\item A\n\\item A\n\\item A\n\\item A\n\\item A\n\\item A\n\\item A\n\\item A\n\\item A\n\\item A\n\\item A\n\\item A\n\\item A\n\\end{enumerate*}\n\n\\emph{Levels}: \\begin{enumerate*}\n\\item 'A'\n\\item 'B'\n\\item 'C'\n\\item 'D'\n\\item 'E'\n\\end{enumerate*}\n",
            "text/plain": [
              " [1] A A A A A A A A A A A A A A A A A A A A\n",
              "Levels: A B C D E"
            ]
          },
          "metadata": {}
        }
      ]
    },
    {
      "cell_type": "markdown",
      "source": [
        "# Conclusions\n",
        "\n"
      ],
      "metadata": {
        "id": "YY-IQI3ygAe7"
      },
      "id": "YY-IQI3ygAe7"
    },
    {
      "cell_type": "markdown",
      "source": [
        "It has to be admitted that our modela have not done a good job. They have extremely high accuracy during valuation but performed terribly on the test set (evaluated externally).\n",
        "\n",
        "This appears to me to be overfitting and I have no clue as to how to fix the problem at this stage."
      ],
      "metadata": {
        "id": "784dRd3GgKXp"
      },
      "id": "784dRd3GgKXp"
    },
    {
      "cell_type": "code",
      "source": [],
      "metadata": {
        "id": "xnNKRehMgoW5"
      },
      "id": "xnNKRehMgoW5",
      "execution_count": null,
      "outputs": []
    }
  ],
  "metadata": {
    "colab": {
      "provenance": [],
      "toc_visible": true
    },
    "kernelspec": {
      "display_name": "R",
      "language": "R",
      "name": "ir"
    },
    "language_info": {
      "codemirror_mode": "r",
      "file_extension": ".r",
      "mimetype": "text/x-r-source",
      "name": "R",
      "pygments_lexer": "r",
      "version": "4.1.3"
    }
  },
  "nbformat": 4,
  "nbformat_minor": 5
}